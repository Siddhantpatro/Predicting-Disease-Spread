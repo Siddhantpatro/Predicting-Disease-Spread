{
  "nbformat": 4,
  "nbformat_minor": 0,
  "metadata": {
    "colab": {
      "name": "Predicting Disease Spread.ipynb",
      "provenance": [],
      "collapsed_sections": []
    },
    "kernelspec": {
      "name": "python3",
      "display_name": "Python 3"
    }
  },
  "cells": [
    {
      "cell_type": "code",
      "metadata": {
        "colab": {
          "resources": {
            "http://localhost:8080/nbextensions/google.colab/files.js": {
              "data": "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",
              "ok": true,
              "headers": [
                [
                  "content-type",
                  "application/javascript"
                ]
              ],
              "status": 200,
              "status_text": ""
            }
          },
          "base_uri": "https://localhost:8080/",
          "height": 140
        },
        "id": "n0oXwde7mD7J",
        "outputId": "013ff6bf-a3c7-4756-fcd7-2d8cdbe2a8f5"
      },
      "source": [
        "# Basic Libraries\r\n",
        "import pandas as pd\r\n",
        "import numpy as np\r\n",
        "import matplotlib.pyplot as plt\r\n",
        "import seaborn as sns\r\n",
        "from scipy import stats\r\n",
        "\r\n",
        "# For Splitting, Standardizing and encoding\r\n",
        "from sklearn.model_selection import train_test_split\r\n",
        "from sklearn.preprocessing import LabelEncoder, StandardScaler\r\n",
        "\r\n",
        "# Random forest regressor for Regression\r\n",
        "from sklearn.ensemble import RandomForestRegressor\r\n",
        "\r\n",
        "# Xgboost regressor for regression\r\n",
        "from xgboost import XGBRegressor\r\n",
        "\r\n",
        "# For accuracy score\r\n",
        "from sklearn.metrics import mean_absolute_error\r\n",
        "from sklearn.metrics import mean_squared_error\r\n",
        "from sklearn.metrics import r2_score\r\n",
        "\r\n",
        "# For warning\r\n",
        "import warnings\r\n",
        "warnings.filterwarnings(\"ignore\")\r\n",
        "\r\n",
        "from google.colab import files\r\n",
        "uploaded = files.upload()"
      ],
      "execution_count": 1,
      "outputs": [
        {
          "output_type": "display_data",
          "data": {
            "text/html": [
              "\n",
              "     <input type=\"file\" id=\"files-5e1af7e7-fa49-4997-9681-cc606b0b479a\" name=\"files[]\" multiple disabled\n",
              "        style=\"border:none\" />\n",
              "     <output id=\"result-5e1af7e7-fa49-4997-9681-cc606b0b479a\">\n",
              "      Upload widget is only available when the cell has been executed in the\n",
              "      current browser session. Please rerun this cell to enable.\n",
              "      </output>\n",
              "      <script src=\"/nbextensions/google.colab/files.js\"></script> "
            ],
            "text/plain": [
              "<IPython.core.display.HTML object>"
            ]
          },
          "metadata": {
            "tags": []
          }
        },
        {
          "output_type": "stream",
          "text": [
            "Saving dengue_features_test.csv to dengue_features_test (5).csv\n",
            "Saving dengue_features_train.csv to dengue_features_train (5).csv\n",
            "Saving dengue_labels_train.csv to dengue_labels_train (5).csv\n"
          ],
          "name": "stdout"
        }
      ]
    },
    {
      "cell_type": "code",
      "metadata": {
        "id": "W9FSWqebjVpN"
      },
      "source": [
        ""
      ],
      "execution_count": null,
      "outputs": []
    },
    {
      "cell_type": "markdown",
      "metadata": {
        "id": "lpezs78_jPq9"
      },
      "source": [
        "**Importing all the three datasets.**"
      ]
    },
    {
      "cell_type": "code",
      "metadata": {
        "colab": {
          "base_uri": "https://localhost:8080/",
          "height": 232
        },
        "id": "6a8P9Phvmyx5",
        "outputId": "01dffa32-a385-4a62-dbe7-3b36a1117bc9"
      },
      "source": [
        "import io\r\n",
        "df_train_features = pd.read_csv(io.BytesIO(uploaded['dengue_features_train.csv']))\r\n",
        "df_train_labels = pd.read_csv(io.BytesIO(uploaded['dengue_labels_train.csv']))\r\n",
        "df_test = pd.read_csv(io.BytesIO(uploaded['dengue_features_test.csv']))\r\n",
        "\r\n",
        "print(df_train_features.shape)\r\n",
        "df_train_features.head()"
      ],
      "execution_count": 2,
      "outputs": [
        {
          "output_type": "stream",
          "text": [
            "(1456, 24)\n"
          ],
          "name": "stdout"
        },
        {
          "output_type": "execute_result",
          "data": {
            "text/html": [
              "<div>\n",
              "<style scoped>\n",
              "    .dataframe tbody tr th:only-of-type {\n",
              "        vertical-align: middle;\n",
              "    }\n",
              "\n",
              "    .dataframe tbody tr th {\n",
              "        vertical-align: top;\n",
              "    }\n",
              "\n",
              "    .dataframe thead th {\n",
              "        text-align: right;\n",
              "    }\n",
              "</style>\n",
              "<table border=\"1\" class=\"dataframe\">\n",
              "  <thead>\n",
              "    <tr style=\"text-align: right;\">\n",
              "      <th></th>\n",
              "      <th>city</th>\n",
              "      <th>year</th>\n",
              "      <th>weekofyear</th>\n",
              "      <th>week_start_date</th>\n",
              "      <th>ndvi_ne</th>\n",
              "      <th>ndvi_nw</th>\n",
              "      <th>ndvi_se</th>\n",
              "      <th>ndvi_sw</th>\n",
              "      <th>precipitation_amt_mm</th>\n",
              "      <th>reanalysis_air_temp_k</th>\n",
              "      <th>reanalysis_avg_temp_k</th>\n",
              "      <th>reanalysis_dew_point_temp_k</th>\n",
              "      <th>reanalysis_max_air_temp_k</th>\n",
              "      <th>reanalysis_min_air_temp_k</th>\n",
              "      <th>reanalysis_precip_amt_kg_per_m2</th>\n",
              "      <th>reanalysis_relative_humidity_percent</th>\n",
              "      <th>reanalysis_sat_precip_amt_mm</th>\n",
              "      <th>reanalysis_specific_humidity_g_per_kg</th>\n",
              "      <th>reanalysis_tdtr_k</th>\n",
              "      <th>station_avg_temp_c</th>\n",
              "      <th>station_diur_temp_rng_c</th>\n",
              "      <th>station_max_temp_c</th>\n",
              "      <th>station_min_temp_c</th>\n",
              "      <th>station_precip_mm</th>\n",
              "    </tr>\n",
              "  </thead>\n",
              "  <tbody>\n",
              "    <tr>\n",
              "      <th>0</th>\n",
              "      <td>sj</td>\n",
              "      <td>1990</td>\n",
              "      <td>18</td>\n",
              "      <td>1990-04-30</td>\n",
              "      <td>0.122600</td>\n",
              "      <td>0.103725</td>\n",
              "      <td>0.198483</td>\n",
              "      <td>0.177617</td>\n",
              "      <td>12.42</td>\n",
              "      <td>297.572857</td>\n",
              "      <td>297.742857</td>\n",
              "      <td>292.414286</td>\n",
              "      <td>299.8</td>\n",
              "      <td>295.9</td>\n",
              "      <td>32.00</td>\n",
              "      <td>73.365714</td>\n",
              "      <td>12.42</td>\n",
              "      <td>14.012857</td>\n",
              "      <td>2.628571</td>\n",
              "      <td>25.442857</td>\n",
              "      <td>6.900000</td>\n",
              "      <td>29.4</td>\n",
              "      <td>20.0</td>\n",
              "      <td>16.0</td>\n",
              "    </tr>\n",
              "    <tr>\n",
              "      <th>1</th>\n",
              "      <td>sj</td>\n",
              "      <td>1990</td>\n",
              "      <td>19</td>\n",
              "      <td>1990-05-07</td>\n",
              "      <td>0.169900</td>\n",
              "      <td>0.142175</td>\n",
              "      <td>0.162357</td>\n",
              "      <td>0.155486</td>\n",
              "      <td>22.82</td>\n",
              "      <td>298.211429</td>\n",
              "      <td>298.442857</td>\n",
              "      <td>293.951429</td>\n",
              "      <td>300.9</td>\n",
              "      <td>296.4</td>\n",
              "      <td>17.94</td>\n",
              "      <td>77.368571</td>\n",
              "      <td>22.82</td>\n",
              "      <td>15.372857</td>\n",
              "      <td>2.371429</td>\n",
              "      <td>26.714286</td>\n",
              "      <td>6.371429</td>\n",
              "      <td>31.7</td>\n",
              "      <td>22.2</td>\n",
              "      <td>8.6</td>\n",
              "    </tr>\n",
              "    <tr>\n",
              "      <th>2</th>\n",
              "      <td>sj</td>\n",
              "      <td>1990</td>\n",
              "      <td>20</td>\n",
              "      <td>1990-05-14</td>\n",
              "      <td>0.032250</td>\n",
              "      <td>0.172967</td>\n",
              "      <td>0.157200</td>\n",
              "      <td>0.170843</td>\n",
              "      <td>34.54</td>\n",
              "      <td>298.781429</td>\n",
              "      <td>298.878571</td>\n",
              "      <td>295.434286</td>\n",
              "      <td>300.5</td>\n",
              "      <td>297.3</td>\n",
              "      <td>26.10</td>\n",
              "      <td>82.052857</td>\n",
              "      <td>34.54</td>\n",
              "      <td>16.848571</td>\n",
              "      <td>2.300000</td>\n",
              "      <td>26.714286</td>\n",
              "      <td>6.485714</td>\n",
              "      <td>32.2</td>\n",
              "      <td>22.8</td>\n",
              "      <td>41.4</td>\n",
              "    </tr>\n",
              "    <tr>\n",
              "      <th>3</th>\n",
              "      <td>sj</td>\n",
              "      <td>1990</td>\n",
              "      <td>21</td>\n",
              "      <td>1990-05-21</td>\n",
              "      <td>0.128633</td>\n",
              "      <td>0.245067</td>\n",
              "      <td>0.227557</td>\n",
              "      <td>0.235886</td>\n",
              "      <td>15.36</td>\n",
              "      <td>298.987143</td>\n",
              "      <td>299.228571</td>\n",
              "      <td>295.310000</td>\n",
              "      <td>301.4</td>\n",
              "      <td>297.0</td>\n",
              "      <td>13.90</td>\n",
              "      <td>80.337143</td>\n",
              "      <td>15.36</td>\n",
              "      <td>16.672857</td>\n",
              "      <td>2.428571</td>\n",
              "      <td>27.471429</td>\n",
              "      <td>6.771429</td>\n",
              "      <td>33.3</td>\n",
              "      <td>23.3</td>\n",
              "      <td>4.0</td>\n",
              "    </tr>\n",
              "    <tr>\n",
              "      <th>4</th>\n",
              "      <td>sj</td>\n",
              "      <td>1990</td>\n",
              "      <td>22</td>\n",
              "      <td>1990-05-28</td>\n",
              "      <td>0.196200</td>\n",
              "      <td>0.262200</td>\n",
              "      <td>0.251200</td>\n",
              "      <td>0.247340</td>\n",
              "      <td>7.52</td>\n",
              "      <td>299.518571</td>\n",
              "      <td>299.664286</td>\n",
              "      <td>295.821429</td>\n",
              "      <td>301.9</td>\n",
              "      <td>297.5</td>\n",
              "      <td>12.20</td>\n",
              "      <td>80.460000</td>\n",
              "      <td>7.52</td>\n",
              "      <td>17.210000</td>\n",
              "      <td>3.014286</td>\n",
              "      <td>28.942857</td>\n",
              "      <td>9.371429</td>\n",
              "      <td>35.0</td>\n",
              "      <td>23.9</td>\n",
              "      <td>5.8</td>\n",
              "    </tr>\n",
              "  </tbody>\n",
              "</table>\n",
              "</div>"
            ],
            "text/plain": [
              "  city  year  ...  station_min_temp_c station_precip_mm\n",
              "0   sj  1990  ...                20.0              16.0\n",
              "1   sj  1990  ...                22.2               8.6\n",
              "2   sj  1990  ...                22.8              41.4\n",
              "3   sj  1990  ...                23.3               4.0\n",
              "4   sj  1990  ...                23.9               5.8\n",
              "\n",
              "[5 rows x 24 columns]"
            ]
          },
          "metadata": {
            "tags": []
          },
          "execution_count": 2
        }
      ]
    },
    {
      "cell_type": "code",
      "metadata": {
        "colab": {
          "base_uri": "https://localhost:8080/",
          "height": 212
        },
        "id": "Y80ffzggn7RN",
        "outputId": "b4611244-d0ab-432d-8a7d-c5f3ab9285e5"
      },
      "source": [
        "print(df_train_labels.shape)\r\n",
        "df_train_labels.head()"
      ],
      "execution_count": 3,
      "outputs": [
        {
          "output_type": "stream",
          "text": [
            "(1456, 4)\n"
          ],
          "name": "stdout"
        },
        {
          "output_type": "execute_result",
          "data": {
            "text/html": [
              "<div>\n",
              "<style scoped>\n",
              "    .dataframe tbody tr th:only-of-type {\n",
              "        vertical-align: middle;\n",
              "    }\n",
              "\n",
              "    .dataframe tbody tr th {\n",
              "        vertical-align: top;\n",
              "    }\n",
              "\n",
              "    .dataframe thead th {\n",
              "        text-align: right;\n",
              "    }\n",
              "</style>\n",
              "<table border=\"1\" class=\"dataframe\">\n",
              "  <thead>\n",
              "    <tr style=\"text-align: right;\">\n",
              "      <th></th>\n",
              "      <th>city</th>\n",
              "      <th>year</th>\n",
              "      <th>weekofyear</th>\n",
              "      <th>total_cases</th>\n",
              "    </tr>\n",
              "  </thead>\n",
              "  <tbody>\n",
              "    <tr>\n",
              "      <th>0</th>\n",
              "      <td>sj</td>\n",
              "      <td>1990</td>\n",
              "      <td>18</td>\n",
              "      <td>4</td>\n",
              "    </tr>\n",
              "    <tr>\n",
              "      <th>1</th>\n",
              "      <td>sj</td>\n",
              "      <td>1990</td>\n",
              "      <td>19</td>\n",
              "      <td>5</td>\n",
              "    </tr>\n",
              "    <tr>\n",
              "      <th>2</th>\n",
              "      <td>sj</td>\n",
              "      <td>1990</td>\n",
              "      <td>20</td>\n",
              "      <td>4</td>\n",
              "    </tr>\n",
              "    <tr>\n",
              "      <th>3</th>\n",
              "      <td>sj</td>\n",
              "      <td>1990</td>\n",
              "      <td>21</td>\n",
              "      <td>3</td>\n",
              "    </tr>\n",
              "    <tr>\n",
              "      <th>4</th>\n",
              "      <td>sj</td>\n",
              "      <td>1990</td>\n",
              "      <td>22</td>\n",
              "      <td>6</td>\n",
              "    </tr>\n",
              "  </tbody>\n",
              "</table>\n",
              "</div>"
            ],
            "text/plain": [
              "  city  year  weekofyear  total_cases\n",
              "0   sj  1990          18            4\n",
              "1   sj  1990          19            5\n",
              "2   sj  1990          20            4\n",
              "3   sj  1990          21            3\n",
              "4   sj  1990          22            6"
            ]
          },
          "metadata": {
            "tags": []
          },
          "execution_count": 3
        }
      ]
    },
    {
      "cell_type": "code",
      "metadata": {
        "colab": {
          "base_uri": "https://localhost:8080/",
          "height": 232
        },
        "id": "euQdZ0LooCmG",
        "outputId": "7fff8a6e-9028-4f71-c5a4-50728336081e"
      },
      "source": [
        "print(df_test.shape)\r\n",
        "df_test.head()"
      ],
      "execution_count": 4,
      "outputs": [
        {
          "output_type": "stream",
          "text": [
            "(416, 24)\n"
          ],
          "name": "stdout"
        },
        {
          "output_type": "execute_result",
          "data": {
            "text/html": [
              "<div>\n",
              "<style scoped>\n",
              "    .dataframe tbody tr th:only-of-type {\n",
              "        vertical-align: middle;\n",
              "    }\n",
              "\n",
              "    .dataframe tbody tr th {\n",
              "        vertical-align: top;\n",
              "    }\n",
              "\n",
              "    .dataframe thead th {\n",
              "        text-align: right;\n",
              "    }\n",
              "</style>\n",
              "<table border=\"1\" class=\"dataframe\">\n",
              "  <thead>\n",
              "    <tr style=\"text-align: right;\">\n",
              "      <th></th>\n",
              "      <th>city</th>\n",
              "      <th>year</th>\n",
              "      <th>weekofyear</th>\n",
              "      <th>week_start_date</th>\n",
              "      <th>ndvi_ne</th>\n",
              "      <th>ndvi_nw</th>\n",
              "      <th>ndvi_se</th>\n",
              "      <th>ndvi_sw</th>\n",
              "      <th>precipitation_amt_mm</th>\n",
              "      <th>reanalysis_air_temp_k</th>\n",
              "      <th>reanalysis_avg_temp_k</th>\n",
              "      <th>reanalysis_dew_point_temp_k</th>\n",
              "      <th>reanalysis_max_air_temp_k</th>\n",
              "      <th>reanalysis_min_air_temp_k</th>\n",
              "      <th>reanalysis_precip_amt_kg_per_m2</th>\n",
              "      <th>reanalysis_relative_humidity_percent</th>\n",
              "      <th>reanalysis_sat_precip_amt_mm</th>\n",
              "      <th>reanalysis_specific_humidity_g_per_kg</th>\n",
              "      <th>reanalysis_tdtr_k</th>\n",
              "      <th>station_avg_temp_c</th>\n",
              "      <th>station_diur_temp_rng_c</th>\n",
              "      <th>station_max_temp_c</th>\n",
              "      <th>station_min_temp_c</th>\n",
              "      <th>station_precip_mm</th>\n",
              "    </tr>\n",
              "  </thead>\n",
              "  <tbody>\n",
              "    <tr>\n",
              "      <th>0</th>\n",
              "      <td>sj</td>\n",
              "      <td>2008</td>\n",
              "      <td>18</td>\n",
              "      <td>2008-04-29</td>\n",
              "      <td>-0.0189</td>\n",
              "      <td>-0.018900</td>\n",
              "      <td>0.102729</td>\n",
              "      <td>0.091200</td>\n",
              "      <td>78.60</td>\n",
              "      <td>298.492857</td>\n",
              "      <td>298.550000</td>\n",
              "      <td>294.527143</td>\n",
              "      <td>301.1</td>\n",
              "      <td>296.4</td>\n",
              "      <td>25.37</td>\n",
              "      <td>78.781429</td>\n",
              "      <td>78.60</td>\n",
              "      <td>15.918571</td>\n",
              "      <td>3.128571</td>\n",
              "      <td>26.528571</td>\n",
              "      <td>7.057143</td>\n",
              "      <td>33.3</td>\n",
              "      <td>21.7</td>\n",
              "      <td>75.2</td>\n",
              "    </tr>\n",
              "    <tr>\n",
              "      <th>1</th>\n",
              "      <td>sj</td>\n",
              "      <td>2008</td>\n",
              "      <td>19</td>\n",
              "      <td>2008-05-06</td>\n",
              "      <td>-0.0180</td>\n",
              "      <td>-0.012400</td>\n",
              "      <td>0.082043</td>\n",
              "      <td>0.072314</td>\n",
              "      <td>12.56</td>\n",
              "      <td>298.475714</td>\n",
              "      <td>298.557143</td>\n",
              "      <td>294.395714</td>\n",
              "      <td>300.8</td>\n",
              "      <td>296.7</td>\n",
              "      <td>21.83</td>\n",
              "      <td>78.230000</td>\n",
              "      <td>12.56</td>\n",
              "      <td>15.791429</td>\n",
              "      <td>2.571429</td>\n",
              "      <td>26.071429</td>\n",
              "      <td>5.557143</td>\n",
              "      <td>30.0</td>\n",
              "      <td>22.2</td>\n",
              "      <td>34.3</td>\n",
              "    </tr>\n",
              "    <tr>\n",
              "      <th>2</th>\n",
              "      <td>sj</td>\n",
              "      <td>2008</td>\n",
              "      <td>20</td>\n",
              "      <td>2008-05-13</td>\n",
              "      <td>-0.0015</td>\n",
              "      <td>NaN</td>\n",
              "      <td>0.151083</td>\n",
              "      <td>0.091529</td>\n",
              "      <td>3.66</td>\n",
              "      <td>299.455714</td>\n",
              "      <td>299.357143</td>\n",
              "      <td>295.308571</td>\n",
              "      <td>302.2</td>\n",
              "      <td>296.4</td>\n",
              "      <td>4.12</td>\n",
              "      <td>78.270000</td>\n",
              "      <td>3.66</td>\n",
              "      <td>16.674286</td>\n",
              "      <td>4.428571</td>\n",
              "      <td>27.928571</td>\n",
              "      <td>7.785714</td>\n",
              "      <td>32.8</td>\n",
              "      <td>22.8</td>\n",
              "      <td>3.0</td>\n",
              "    </tr>\n",
              "    <tr>\n",
              "      <th>3</th>\n",
              "      <td>sj</td>\n",
              "      <td>2008</td>\n",
              "      <td>21</td>\n",
              "      <td>2008-05-20</td>\n",
              "      <td>NaN</td>\n",
              "      <td>-0.019867</td>\n",
              "      <td>0.124329</td>\n",
              "      <td>0.125686</td>\n",
              "      <td>0.00</td>\n",
              "      <td>299.690000</td>\n",
              "      <td>299.728571</td>\n",
              "      <td>294.402857</td>\n",
              "      <td>303.0</td>\n",
              "      <td>296.9</td>\n",
              "      <td>2.20</td>\n",
              "      <td>73.015714</td>\n",
              "      <td>0.00</td>\n",
              "      <td>15.775714</td>\n",
              "      <td>4.342857</td>\n",
              "      <td>28.057143</td>\n",
              "      <td>6.271429</td>\n",
              "      <td>33.3</td>\n",
              "      <td>24.4</td>\n",
              "      <td>0.3</td>\n",
              "    </tr>\n",
              "    <tr>\n",
              "      <th>4</th>\n",
              "      <td>sj</td>\n",
              "      <td>2008</td>\n",
              "      <td>22</td>\n",
              "      <td>2008-05-27</td>\n",
              "      <td>0.0568</td>\n",
              "      <td>0.039833</td>\n",
              "      <td>0.062267</td>\n",
              "      <td>0.075914</td>\n",
              "      <td>0.76</td>\n",
              "      <td>299.780000</td>\n",
              "      <td>299.671429</td>\n",
              "      <td>294.760000</td>\n",
              "      <td>302.3</td>\n",
              "      <td>297.3</td>\n",
              "      <td>4.36</td>\n",
              "      <td>74.084286</td>\n",
              "      <td>0.76</td>\n",
              "      <td>16.137143</td>\n",
              "      <td>3.542857</td>\n",
              "      <td>27.614286</td>\n",
              "      <td>7.085714</td>\n",
              "      <td>33.3</td>\n",
              "      <td>23.3</td>\n",
              "      <td>84.1</td>\n",
              "    </tr>\n",
              "  </tbody>\n",
              "</table>\n",
              "</div>"
            ],
            "text/plain": [
              "  city  year  ...  station_min_temp_c station_precip_mm\n",
              "0   sj  2008  ...                21.7              75.2\n",
              "1   sj  2008  ...                22.2              34.3\n",
              "2   sj  2008  ...                22.8               3.0\n",
              "3   sj  2008  ...                24.4               0.3\n",
              "4   sj  2008  ...                23.3              84.1\n",
              "\n",
              "[5 rows x 24 columns]"
            ]
          },
          "metadata": {
            "tags": []
          },
          "execution_count": 4
        }
      ]
    },
    {
      "cell_type": "code",
      "metadata": {
        "id": "tkcd3-k4hl2y"
      },
      "source": [
        ""
      ],
      "execution_count": null,
      "outputs": []
    },
    {
      "cell_type": "markdown",
      "metadata": {
        "id": "NWHEsPHZhmfJ"
      },
      "source": [
        "**Data preprocessing for Train dataset.**"
      ]
    },
    {
      "cell_type": "code",
      "metadata": {
        "id": "SmVCF2e2H9jy"
      },
      "source": [
        "le = LabelEncoder()\r\n",
        "\r\n",
        "df_train_features['week_start_date'] = df_train_features['week_start_date'].astype('datetime64').astype(int).astype(float)\r\n",
        "\r\n",
        "df_train_features['city'] = le.fit_transform(df_train_features['city'])\r\n",
        "df_train_features['week_start_date'] = le.fit_transform(df_train_features['week_start_date'])"
      ],
      "execution_count": 5,
      "outputs": []
    },
    {
      "cell_type": "code",
      "metadata": {
        "id": "sP3N_ITgsg8i"
      },
      "source": [
        "column = []\r\n",
        "cols_dtype = [i for i in df_train_features.dtypes]\r\n",
        "for i,j in zip(df_train_features.columns, cols_dtype):\r\n",
        "  if j!='object':\r\n",
        "    column.append(i)\r\n",
        "df_train_features[column] = df_train_features[column].fillna(df_train_features.mean())"
      ],
      "execution_count": 6,
      "outputs": []
    },
    {
      "cell_type": "code",
      "metadata": {
        "id": "o8FAoMqvj7v8"
      },
      "source": [
        ""
      ],
      "execution_count": null,
      "outputs": []
    },
    {
      "cell_type": "markdown",
      "metadata": {
        "id": "Aa4hXby2jbun"
      },
      "source": [
        "**Final Train dataset.**"
      ]
    },
    {
      "cell_type": "code",
      "metadata": {
        "colab": {
          "base_uri": "https://localhost:8080/",
          "height": 215
        },
        "id": "hxzKHxBCtrWO",
        "outputId": "14cc94a1-7ee8-4c5b-fbe7-734df4a978c4"
      },
      "source": [
        "New_df = df_train_features[column]\r\n",
        "New_df.head()"
      ],
      "execution_count": 7,
      "outputs": [
        {
          "output_type": "execute_result",
          "data": {
            "text/html": [
              "<div>\n",
              "<style scoped>\n",
              "    .dataframe tbody tr th:only-of-type {\n",
              "        vertical-align: middle;\n",
              "    }\n",
              "\n",
              "    .dataframe tbody tr th {\n",
              "        vertical-align: top;\n",
              "    }\n",
              "\n",
              "    .dataframe thead th {\n",
              "        text-align: right;\n",
              "    }\n",
              "</style>\n",
              "<table border=\"1\" class=\"dataframe\">\n",
              "  <thead>\n",
              "    <tr style=\"text-align: right;\">\n",
              "      <th></th>\n",
              "      <th>city</th>\n",
              "      <th>year</th>\n",
              "      <th>weekofyear</th>\n",
              "      <th>week_start_date</th>\n",
              "      <th>ndvi_ne</th>\n",
              "      <th>ndvi_nw</th>\n",
              "      <th>ndvi_se</th>\n",
              "      <th>ndvi_sw</th>\n",
              "      <th>precipitation_amt_mm</th>\n",
              "      <th>reanalysis_air_temp_k</th>\n",
              "      <th>reanalysis_avg_temp_k</th>\n",
              "      <th>reanalysis_dew_point_temp_k</th>\n",
              "      <th>reanalysis_max_air_temp_k</th>\n",
              "      <th>reanalysis_min_air_temp_k</th>\n",
              "      <th>reanalysis_precip_amt_kg_per_m2</th>\n",
              "      <th>reanalysis_relative_humidity_percent</th>\n",
              "      <th>reanalysis_sat_precip_amt_mm</th>\n",
              "      <th>reanalysis_specific_humidity_g_per_kg</th>\n",
              "      <th>reanalysis_tdtr_k</th>\n",
              "      <th>station_avg_temp_c</th>\n",
              "      <th>station_diur_temp_rng_c</th>\n",
              "      <th>station_max_temp_c</th>\n",
              "      <th>station_min_temp_c</th>\n",
              "      <th>station_precip_mm</th>\n",
              "    </tr>\n",
              "  </thead>\n",
              "  <tbody>\n",
              "    <tr>\n",
              "      <th>0</th>\n",
              "      <td>1</td>\n",
              "      <td>1990</td>\n",
              "      <td>18</td>\n",
              "      <td>0</td>\n",
              "      <td>0.122600</td>\n",
              "      <td>0.103725</td>\n",
              "      <td>0.198483</td>\n",
              "      <td>0.177617</td>\n",
              "      <td>12.42</td>\n",
              "      <td>297.572857</td>\n",
              "      <td>297.742857</td>\n",
              "      <td>292.414286</td>\n",
              "      <td>299.8</td>\n",
              "      <td>295.9</td>\n",
              "      <td>32.00</td>\n",
              "      <td>73.365714</td>\n",
              "      <td>12.42</td>\n",
              "      <td>14.012857</td>\n",
              "      <td>2.628571</td>\n",
              "      <td>25.442857</td>\n",
              "      <td>6.900000</td>\n",
              "      <td>29.4</td>\n",
              "      <td>20.0</td>\n",
              "      <td>16.0</td>\n",
              "    </tr>\n",
              "    <tr>\n",
              "      <th>1</th>\n",
              "      <td>1</td>\n",
              "      <td>1990</td>\n",
              "      <td>19</td>\n",
              "      <td>1</td>\n",
              "      <td>0.169900</td>\n",
              "      <td>0.142175</td>\n",
              "      <td>0.162357</td>\n",
              "      <td>0.155486</td>\n",
              "      <td>22.82</td>\n",
              "      <td>298.211429</td>\n",
              "      <td>298.442857</td>\n",
              "      <td>293.951429</td>\n",
              "      <td>300.9</td>\n",
              "      <td>296.4</td>\n",
              "      <td>17.94</td>\n",
              "      <td>77.368571</td>\n",
              "      <td>22.82</td>\n",
              "      <td>15.372857</td>\n",
              "      <td>2.371429</td>\n",
              "      <td>26.714286</td>\n",
              "      <td>6.371429</td>\n",
              "      <td>31.7</td>\n",
              "      <td>22.2</td>\n",
              "      <td>8.6</td>\n",
              "    </tr>\n",
              "    <tr>\n",
              "      <th>2</th>\n",
              "      <td>1</td>\n",
              "      <td>1990</td>\n",
              "      <td>20</td>\n",
              "      <td>2</td>\n",
              "      <td>0.032250</td>\n",
              "      <td>0.172967</td>\n",
              "      <td>0.157200</td>\n",
              "      <td>0.170843</td>\n",
              "      <td>34.54</td>\n",
              "      <td>298.781429</td>\n",
              "      <td>298.878571</td>\n",
              "      <td>295.434286</td>\n",
              "      <td>300.5</td>\n",
              "      <td>297.3</td>\n",
              "      <td>26.10</td>\n",
              "      <td>82.052857</td>\n",
              "      <td>34.54</td>\n",
              "      <td>16.848571</td>\n",
              "      <td>2.300000</td>\n",
              "      <td>26.714286</td>\n",
              "      <td>6.485714</td>\n",
              "      <td>32.2</td>\n",
              "      <td>22.8</td>\n",
              "      <td>41.4</td>\n",
              "    </tr>\n",
              "    <tr>\n",
              "      <th>3</th>\n",
              "      <td>1</td>\n",
              "      <td>1990</td>\n",
              "      <td>21</td>\n",
              "      <td>3</td>\n",
              "      <td>0.128633</td>\n",
              "      <td>0.245067</td>\n",
              "      <td>0.227557</td>\n",
              "      <td>0.235886</td>\n",
              "      <td>15.36</td>\n",
              "      <td>298.987143</td>\n",
              "      <td>299.228571</td>\n",
              "      <td>295.310000</td>\n",
              "      <td>301.4</td>\n",
              "      <td>297.0</td>\n",
              "      <td>13.90</td>\n",
              "      <td>80.337143</td>\n",
              "      <td>15.36</td>\n",
              "      <td>16.672857</td>\n",
              "      <td>2.428571</td>\n",
              "      <td>27.471429</td>\n",
              "      <td>6.771429</td>\n",
              "      <td>33.3</td>\n",
              "      <td>23.3</td>\n",
              "      <td>4.0</td>\n",
              "    </tr>\n",
              "    <tr>\n",
              "      <th>4</th>\n",
              "      <td>1</td>\n",
              "      <td>1990</td>\n",
              "      <td>22</td>\n",
              "      <td>4</td>\n",
              "      <td>0.196200</td>\n",
              "      <td>0.262200</td>\n",
              "      <td>0.251200</td>\n",
              "      <td>0.247340</td>\n",
              "      <td>7.52</td>\n",
              "      <td>299.518571</td>\n",
              "      <td>299.664286</td>\n",
              "      <td>295.821429</td>\n",
              "      <td>301.9</td>\n",
              "      <td>297.5</td>\n",
              "      <td>12.20</td>\n",
              "      <td>80.460000</td>\n",
              "      <td>7.52</td>\n",
              "      <td>17.210000</td>\n",
              "      <td>3.014286</td>\n",
              "      <td>28.942857</td>\n",
              "      <td>9.371429</td>\n",
              "      <td>35.0</td>\n",
              "      <td>23.9</td>\n",
              "      <td>5.8</td>\n",
              "    </tr>\n",
              "  </tbody>\n",
              "</table>\n",
              "</div>"
            ],
            "text/plain": [
              "   city  year  ...  station_min_temp_c  station_precip_mm\n",
              "0     1  1990  ...                20.0               16.0\n",
              "1     1  1990  ...                22.2                8.6\n",
              "2     1  1990  ...                22.8               41.4\n",
              "3     1  1990  ...                23.3                4.0\n",
              "4     1  1990  ...                23.9                5.8\n",
              "\n",
              "[5 rows x 24 columns]"
            ]
          },
          "metadata": {
            "tags": []
          },
          "execution_count": 7
        }
      ]
    },
    {
      "cell_type": "code",
      "metadata": {
        "colab": {
          "base_uri": "https://localhost:8080/",
          "height": 215
        },
        "id": "Zf9BSbfB9ckp",
        "outputId": "5c5fbb4b-f834-4850-9df0-722bbe76d7e7"
      },
      "source": [
        "New_df_le = New_df.apply(LabelEncoder().fit_transform)\r\n",
        "New_df_le.head()"
      ],
      "execution_count": 8,
      "outputs": [
        {
          "output_type": "execute_result",
          "data": {
            "text/html": [
              "<div>\n",
              "<style scoped>\n",
              "    .dataframe tbody tr th:only-of-type {\n",
              "        vertical-align: middle;\n",
              "    }\n",
              "\n",
              "    .dataframe tbody tr th {\n",
              "        vertical-align: top;\n",
              "    }\n",
              "\n",
              "    .dataframe thead th {\n",
              "        text-align: right;\n",
              "    }\n",
              "</style>\n",
              "<table border=\"1\" class=\"dataframe\">\n",
              "  <thead>\n",
              "    <tr style=\"text-align: right;\">\n",
              "      <th></th>\n",
              "      <th>city</th>\n",
              "      <th>year</th>\n",
              "      <th>weekofyear</th>\n",
              "      <th>week_start_date</th>\n",
              "      <th>ndvi_ne</th>\n",
              "      <th>ndvi_nw</th>\n",
              "      <th>ndvi_se</th>\n",
              "      <th>ndvi_sw</th>\n",
              "      <th>precipitation_amt_mm</th>\n",
              "      <th>reanalysis_air_temp_k</th>\n",
              "      <th>reanalysis_avg_temp_k</th>\n",
              "      <th>reanalysis_dew_point_temp_k</th>\n",
              "      <th>reanalysis_max_air_temp_k</th>\n",
              "      <th>reanalysis_min_air_temp_k</th>\n",
              "      <th>reanalysis_precip_amt_kg_per_m2</th>\n",
              "      <th>reanalysis_relative_humidity_percent</th>\n",
              "      <th>reanalysis_sat_precip_amt_mm</th>\n",
              "      <th>reanalysis_specific_humidity_g_per_kg</th>\n",
              "      <th>reanalysis_tdtr_k</th>\n",
              "      <th>station_avg_temp_c</th>\n",
              "      <th>station_diur_temp_rng_c</th>\n",
              "      <th>station_max_temp_c</th>\n",
              "      <th>station_min_temp_c</th>\n",
              "      <th>station_precip_mm</th>\n",
              "    </tr>\n",
              "  </thead>\n",
              "  <tbody>\n",
              "    <tr>\n",
              "      <th>0</th>\n",
              "      <td>1</td>\n",
              "      <td>0</td>\n",
              "      <td>17</td>\n",
              "      <td>0</td>\n",
              "      <td>566</td>\n",
              "      <td>609</td>\n",
              "      <td>726</td>\n",
              "      <td>602</td>\n",
              "      <td>154</td>\n",
              "      <td>280</td>\n",
              "      <td>116</td>\n",
              "      <td>66</td>\n",
              "      <td>15</td>\n",
              "      <td>79</td>\n",
              "      <td>497</td>\n",
              "      <td>82</td>\n",
              "      <td>154</td>\n",
              "      <td>71</td>\n",
              "      <td>74</td>\n",
              "      <td>86</td>\n",
              "      <td>123</td>\n",
              "      <td>5</td>\n",
              "      <td>30</td>\n",
              "      <td>129</td>\n",
              "    </tr>\n",
              "    <tr>\n",
              "      <th>1</th>\n",
              "      <td>1</td>\n",
              "      <td>0</td>\n",
              "      <td>18</td>\n",
              "      <td>1</td>\n",
              "      <td>681</td>\n",
              "      <td>759</td>\n",
              "      <td>407</td>\n",
              "      <td>422</td>\n",
              "      <td>280</td>\n",
              "      <td>462</td>\n",
              "      <td>204</td>\n",
              "      <td>294</td>\n",
              "      <td>26</td>\n",
              "      <td>84</td>\n",
              "      <td>284</td>\n",
              "      <td>364</td>\n",
              "      <td>280</td>\n",
              "      <td>281</td>\n",
              "      <td>56</td>\n",
              "      <td>196</td>\n",
              "      <td>86</td>\n",
              "      <td>16</td>\n",
              "      <td>53</td>\n",
              "      <td>67</td>\n",
              "    </tr>\n",
              "    <tr>\n",
              "      <th>2</th>\n",
              "      <td>1</td>\n",
              "      <td>0</td>\n",
              "      <td>19</td>\n",
              "      <td>2</td>\n",
              "      <td>256</td>\n",
              "      <td>861</td>\n",
              "      <td>363</td>\n",
              "      <td>546</td>\n",
              "      <td>417</td>\n",
              "      <td>628</td>\n",
              "      <td>260</td>\n",
              "      <td>588</td>\n",
              "      <td>22</td>\n",
              "      <td>93</td>\n",
              "      <td>422</td>\n",
              "      <td>822</td>\n",
              "      <td>417</td>\n",
              "      <td>571</td>\n",
              "      <td>51</td>\n",
              "      <td>196</td>\n",
              "      <td>94</td>\n",
              "      <td>20</td>\n",
              "      <td>59</td>\n",
              "      <td>313</td>\n",
              "    </tr>\n",
              "    <tr>\n",
              "      <th>3</th>\n",
              "      <td>1</td>\n",
              "      <td>0</td>\n",
              "      <td>20</td>\n",
              "      <td>3</td>\n",
              "      <td>587</td>\n",
              "      <td>1104</td>\n",
              "      <td>942</td>\n",
              "      <td>989</td>\n",
              "      <td>187</td>\n",
              "      <td>673</td>\n",
              "      <td>306</td>\n",
              "      <td>561</td>\n",
              "      <td>31</td>\n",
              "      <td>90</td>\n",
              "      <td>226</td>\n",
              "      <td>671</td>\n",
              "      <td>187</td>\n",
              "      <td>524</td>\n",
              "      <td>60</td>\n",
              "      <td>284</td>\n",
              "      <td>114</td>\n",
              "      <td>32</td>\n",
              "      <td>64</td>\n",
              "      <td>26</td>\n",
              "    </tr>\n",
              "    <tr>\n",
              "      <th>4</th>\n",
              "      <td>1</td>\n",
              "      <td>0</td>\n",
              "      <td>21</td>\n",
              "      <td>4</td>\n",
              "      <td>760</td>\n",
              "      <td>1149</td>\n",
              "      <td>1057</td>\n",
              "      <td>1038</td>\n",
              "      <td>89</td>\n",
              "      <td>809</td>\n",
              "      <td>364</td>\n",
              "      <td>675</td>\n",
              "      <td>36</td>\n",
              "      <td>95</td>\n",
              "      <td>192</td>\n",
              "      <td>682</td>\n",
              "      <td>89</td>\n",
              "      <td>646</td>\n",
              "      <td>101</td>\n",
              "      <td>453</td>\n",
              "      <td>283</td>\n",
              "      <td>49</td>\n",
              "      <td>69</td>\n",
              "      <td>41</td>\n",
              "    </tr>\n",
              "  </tbody>\n",
              "</table>\n",
              "</div>"
            ],
            "text/plain": [
              "   city  year  ...  station_min_temp_c  station_precip_mm\n",
              "0     1     0  ...                  30                129\n",
              "1     1     0  ...                  53                 67\n",
              "2     1     0  ...                  59                313\n",
              "3     1     0  ...                  64                 26\n",
              "4     1     0  ...                  69                 41\n",
              "\n",
              "[5 rows x 24 columns]"
            ]
          },
          "metadata": {
            "tags": []
          },
          "execution_count": 8
        }
      ]
    },
    {
      "cell_type": "code",
      "metadata": {
        "id": "fKhbOZMXYREy"
      },
      "source": [
        ""
      ],
      "execution_count": null,
      "outputs": []
    },
    {
      "cell_type": "markdown",
      "metadata": {
        "id": "ZXO5S3fKhd71"
      },
      "source": [
        "**Data preprocessing for test dataset**"
      ]
    },
    {
      "cell_type": "code",
      "metadata": {
        "id": "57LoV7zTJh0M"
      },
      "source": [
        "df_test['week_start_date'] = df_test['week_start_date'].astype('datetime64').astype(int).astype(float)\r\n",
        "\r\n",
        "df_test['city'] = le.fit_transform(df_test['city'])\r\n",
        "df_test['week_start_date'] = le.fit_transform(df_test['week_start_date'])"
      ],
      "execution_count": 9,
      "outputs": []
    },
    {
      "cell_type": "code",
      "metadata": {
        "id": "RNVGHkxFt0ZN"
      },
      "source": [
        "column = []\r\n",
        "cols_dtype = [i for i in df_test.dtypes]\r\n",
        "for i,j in zip(df_test.columns, cols_dtype):\r\n",
        "  if j!='object':\r\n",
        "    column.append(i)\r\n",
        "df_test[column] = df_test[column].fillna(df_test.mean())"
      ],
      "execution_count": 10,
      "outputs": []
    },
    {
      "cell_type": "code",
      "metadata": {
        "colab": {
          "base_uri": "https://localhost:8080/",
          "height": 363
        },
        "id": "k7BHNnqWuOp_",
        "outputId": "9d67f3f8-857d-4a86-8588-35431146c157"
      },
      "source": [
        "New_df_test = df_test[column]\r\n",
        "New_df_test.head(10)"
      ],
      "execution_count": 11,
      "outputs": [
        {
          "output_type": "execute_result",
          "data": {
            "text/html": [
              "<div>\n",
              "<style scoped>\n",
              "    .dataframe tbody tr th:only-of-type {\n",
              "        vertical-align: middle;\n",
              "    }\n",
              "\n",
              "    .dataframe tbody tr th {\n",
              "        vertical-align: top;\n",
              "    }\n",
              "\n",
              "    .dataframe thead th {\n",
              "        text-align: right;\n",
              "    }\n",
              "</style>\n",
              "<table border=\"1\" class=\"dataframe\">\n",
              "  <thead>\n",
              "    <tr style=\"text-align: right;\">\n",
              "      <th></th>\n",
              "      <th>city</th>\n",
              "      <th>year</th>\n",
              "      <th>weekofyear</th>\n",
              "      <th>week_start_date</th>\n",
              "      <th>ndvi_ne</th>\n",
              "      <th>ndvi_nw</th>\n",
              "      <th>ndvi_se</th>\n",
              "      <th>ndvi_sw</th>\n",
              "      <th>precipitation_amt_mm</th>\n",
              "      <th>reanalysis_air_temp_k</th>\n",
              "      <th>reanalysis_avg_temp_k</th>\n",
              "      <th>reanalysis_dew_point_temp_k</th>\n",
              "      <th>reanalysis_max_air_temp_k</th>\n",
              "      <th>reanalysis_min_air_temp_k</th>\n",
              "      <th>reanalysis_precip_amt_kg_per_m2</th>\n",
              "      <th>reanalysis_relative_humidity_percent</th>\n",
              "      <th>reanalysis_sat_precip_amt_mm</th>\n",
              "      <th>reanalysis_specific_humidity_g_per_kg</th>\n",
              "      <th>reanalysis_tdtr_k</th>\n",
              "      <th>station_avg_temp_c</th>\n",
              "      <th>station_diur_temp_rng_c</th>\n",
              "      <th>station_max_temp_c</th>\n",
              "      <th>station_min_temp_c</th>\n",
              "      <th>station_precip_mm</th>\n",
              "    </tr>\n",
              "  </thead>\n",
              "  <tbody>\n",
              "    <tr>\n",
              "      <th>0</th>\n",
              "      <td>1</td>\n",
              "      <td>2008</td>\n",
              "      <td>18</td>\n",
              "      <td>0</td>\n",
              "      <td>-0.018900</td>\n",
              "      <td>-0.018900</td>\n",
              "      <td>0.102729</td>\n",
              "      <td>0.091200</td>\n",
              "      <td>78.60</td>\n",
              "      <td>298.492857</td>\n",
              "      <td>298.550000</td>\n",
              "      <td>294.527143</td>\n",
              "      <td>301.1</td>\n",
              "      <td>296.4</td>\n",
              "      <td>25.37</td>\n",
              "      <td>78.781429</td>\n",
              "      <td>78.60</td>\n",
              "      <td>15.918571</td>\n",
              "      <td>3.128571</td>\n",
              "      <td>26.528571</td>\n",
              "      <td>7.057143</td>\n",
              "      <td>33.3</td>\n",
              "      <td>21.7</td>\n",
              "      <td>75.2</td>\n",
              "    </tr>\n",
              "    <tr>\n",
              "      <th>1</th>\n",
              "      <td>1</td>\n",
              "      <td>2008</td>\n",
              "      <td>19</td>\n",
              "      <td>1</td>\n",
              "      <td>-0.018000</td>\n",
              "      <td>-0.012400</td>\n",
              "      <td>0.082043</td>\n",
              "      <td>0.072314</td>\n",
              "      <td>12.56</td>\n",
              "      <td>298.475714</td>\n",
              "      <td>298.557143</td>\n",
              "      <td>294.395714</td>\n",
              "      <td>300.8</td>\n",
              "      <td>296.7</td>\n",
              "      <td>21.83</td>\n",
              "      <td>78.230000</td>\n",
              "      <td>12.56</td>\n",
              "      <td>15.791429</td>\n",
              "      <td>2.571429</td>\n",
              "      <td>26.071429</td>\n",
              "      <td>5.557143</td>\n",
              "      <td>30.0</td>\n",
              "      <td>22.2</td>\n",
              "      <td>34.3</td>\n",
              "    </tr>\n",
              "    <tr>\n",
              "      <th>2</th>\n",
              "      <td>1</td>\n",
              "      <td>2008</td>\n",
              "      <td>20</td>\n",
              "      <td>2</td>\n",
              "      <td>-0.001500</td>\n",
              "      <td>0.126803</td>\n",
              "      <td>0.151083</td>\n",
              "      <td>0.091529</td>\n",
              "      <td>3.66</td>\n",
              "      <td>299.455714</td>\n",
              "      <td>299.357143</td>\n",
              "      <td>295.308571</td>\n",
              "      <td>302.2</td>\n",
              "      <td>296.4</td>\n",
              "      <td>4.12</td>\n",
              "      <td>78.270000</td>\n",
              "      <td>3.66</td>\n",
              "      <td>16.674286</td>\n",
              "      <td>4.428571</td>\n",
              "      <td>27.928571</td>\n",
              "      <td>7.785714</td>\n",
              "      <td>32.8</td>\n",
              "      <td>22.8</td>\n",
              "      <td>3.0</td>\n",
              "    </tr>\n",
              "    <tr>\n",
              "      <th>3</th>\n",
              "      <td>1</td>\n",
              "      <td>2008</td>\n",
              "      <td>21</td>\n",
              "      <td>3</td>\n",
              "      <td>0.126050</td>\n",
              "      <td>-0.019867</td>\n",
              "      <td>0.124329</td>\n",
              "      <td>0.125686</td>\n",
              "      <td>0.00</td>\n",
              "      <td>299.690000</td>\n",
              "      <td>299.728571</td>\n",
              "      <td>294.402857</td>\n",
              "      <td>303.0</td>\n",
              "      <td>296.9</td>\n",
              "      <td>2.20</td>\n",
              "      <td>73.015714</td>\n",
              "      <td>0.00</td>\n",
              "      <td>15.775714</td>\n",
              "      <td>4.342857</td>\n",
              "      <td>28.057143</td>\n",
              "      <td>6.271429</td>\n",
              "      <td>33.3</td>\n",
              "      <td>24.4</td>\n",
              "      <td>0.3</td>\n",
              "    </tr>\n",
              "    <tr>\n",
              "      <th>4</th>\n",
              "      <td>1</td>\n",
              "      <td>2008</td>\n",
              "      <td>22</td>\n",
              "      <td>4</td>\n",
              "      <td>0.056800</td>\n",
              "      <td>0.039833</td>\n",
              "      <td>0.062267</td>\n",
              "      <td>0.075914</td>\n",
              "      <td>0.76</td>\n",
              "      <td>299.780000</td>\n",
              "      <td>299.671429</td>\n",
              "      <td>294.760000</td>\n",
              "      <td>302.3</td>\n",
              "      <td>297.3</td>\n",
              "      <td>4.36</td>\n",
              "      <td>74.084286</td>\n",
              "      <td>0.76</td>\n",
              "      <td>16.137143</td>\n",
              "      <td>3.542857</td>\n",
              "      <td>27.614286</td>\n",
              "      <td>7.085714</td>\n",
              "      <td>33.3</td>\n",
              "      <td>23.3</td>\n",
              "      <td>84.1</td>\n",
              "    </tr>\n",
              "    <tr>\n",
              "      <th>5</th>\n",
              "      <td>1</td>\n",
              "      <td>2008</td>\n",
              "      <td>23</td>\n",
              "      <td>5</td>\n",
              "      <td>-0.044000</td>\n",
              "      <td>-0.030467</td>\n",
              "      <td>0.132000</td>\n",
              "      <td>0.083529</td>\n",
              "      <td>71.17</td>\n",
              "      <td>299.768571</td>\n",
              "      <td>299.728571</td>\n",
              "      <td>295.314286</td>\n",
              "      <td>301.9</td>\n",
              "      <td>297.6</td>\n",
              "      <td>22.55</td>\n",
              "      <td>76.557143</td>\n",
              "      <td>71.17</td>\n",
              "      <td>16.667143</td>\n",
              "      <td>2.857143</td>\n",
              "      <td>28.000000</td>\n",
              "      <td>5.171429</td>\n",
              "      <td>32.8</td>\n",
              "      <td>25.0</td>\n",
              "      <td>27.7</td>\n",
              "    </tr>\n",
              "    <tr>\n",
              "      <th>6</th>\n",
              "      <td>1</td>\n",
              "      <td>2008</td>\n",
              "      <td>24</td>\n",
              "      <td>6</td>\n",
              "      <td>-0.044300</td>\n",
              "      <td>-0.024925</td>\n",
              "      <td>0.132271</td>\n",
              "      <td>0.159157</td>\n",
              "      <td>48.99</td>\n",
              "      <td>300.062857</td>\n",
              "      <td>300.007143</td>\n",
              "      <td>295.650000</td>\n",
              "      <td>302.4</td>\n",
              "      <td>297.5</td>\n",
              "      <td>13.10</td>\n",
              "      <td>76.844286</td>\n",
              "      <td>48.99</td>\n",
              "      <td>17.010000</td>\n",
              "      <td>3.157143</td>\n",
              "      <td>27.400000</td>\n",
              "      <td>6.042857</td>\n",
              "      <td>31.1</td>\n",
              "      <td>23.3</td>\n",
              "      <td>91.7</td>\n",
              "    </tr>\n",
              "    <tr>\n",
              "      <th>7</th>\n",
              "      <td>1</td>\n",
              "      <td>2008</td>\n",
              "      <td>25</td>\n",
              "      <td>7</td>\n",
              "      <td>0.126050</td>\n",
              "      <td>0.082150</td>\n",
              "      <td>0.144371</td>\n",
              "      <td>0.116729</td>\n",
              "      <td>30.81</td>\n",
              "      <td>300.484286</td>\n",
              "      <td>300.578571</td>\n",
              "      <td>295.997143</td>\n",
              "      <td>303.5</td>\n",
              "      <td>297.5</td>\n",
              "      <td>7.20</td>\n",
              "      <td>76.870000</td>\n",
              "      <td>30.81</td>\n",
              "      <td>17.420000</td>\n",
              "      <td>3.900000</td>\n",
              "      <td>28.757143</td>\n",
              "      <td>6.985714</td>\n",
              "      <td>34.4</td>\n",
              "      <td>24.4</td>\n",
              "      <td>0.3</td>\n",
              "    </tr>\n",
              "    <tr>\n",
              "      <th>8</th>\n",
              "      <td>1</td>\n",
              "      <td>2008</td>\n",
              "      <td>26</td>\n",
              "      <td>8</td>\n",
              "      <td>0.010800</td>\n",
              "      <td>0.049900</td>\n",
              "      <td>0.100571</td>\n",
              "      <td>0.117329</td>\n",
              "      <td>8.02</td>\n",
              "      <td>300.601429</td>\n",
              "      <td>300.621429</td>\n",
              "      <td>296.268571</td>\n",
              "      <td>302.5</td>\n",
              "      <td>298.5</td>\n",
              "      <td>17.10</td>\n",
              "      <td>77.395714</td>\n",
              "      <td>8.02</td>\n",
              "      <td>17.678571</td>\n",
              "      <td>2.785714</td>\n",
              "      <td>28.657143</td>\n",
              "      <td>6.242857</td>\n",
              "      <td>32.8</td>\n",
              "      <td>23.9</td>\n",
              "      <td>28.7</td>\n",
              "    </tr>\n",
              "    <tr>\n",
              "      <th>9</th>\n",
              "      <td>1</td>\n",
              "      <td>2008</td>\n",
              "      <td>27</td>\n",
              "      <td>9</td>\n",
              "      <td>0.072667</td>\n",
              "      <td>0.106660</td>\n",
              "      <td>0.155429</td>\n",
              "      <td>0.164900</td>\n",
              "      <td>17.52</td>\n",
              "      <td>300.497143</td>\n",
              "      <td>300.528571</td>\n",
              "      <td>296.411429</td>\n",
              "      <td>302.3</td>\n",
              "      <td>298.7</td>\n",
              "      <td>11.90</td>\n",
              "      <td>78.534286</td>\n",
              "      <td>17.52</td>\n",
              "      <td>17.808571</td>\n",
              "      <td>2.228571</td>\n",
              "      <td>28.457143</td>\n",
              "      <td>4.628571</td>\n",
              "      <td>31.1</td>\n",
              "      <td>25.0</td>\n",
              "      <td>2.9</td>\n",
              "    </tr>\n",
              "  </tbody>\n",
              "</table>\n",
              "</div>"
            ],
            "text/plain": [
              "   city  year  ...  station_min_temp_c  station_precip_mm\n",
              "0     1  2008  ...                21.7               75.2\n",
              "1     1  2008  ...                22.2               34.3\n",
              "2     1  2008  ...                22.8                3.0\n",
              "3     1  2008  ...                24.4                0.3\n",
              "4     1  2008  ...                23.3               84.1\n",
              "5     1  2008  ...                25.0               27.7\n",
              "6     1  2008  ...                23.3               91.7\n",
              "7     1  2008  ...                24.4                0.3\n",
              "8     1  2008  ...                23.9               28.7\n",
              "9     1  2008  ...                25.0                2.9\n",
              "\n",
              "[10 rows x 24 columns]"
            ]
          },
          "metadata": {
            "tags": []
          },
          "execution_count": 11
        }
      ]
    },
    {
      "cell_type": "code",
      "metadata": {
        "id": "uc1GC-ttipK6"
      },
      "source": [
        ""
      ],
      "execution_count": null,
      "outputs": []
    },
    {
      "cell_type": "markdown",
      "metadata": {
        "id": "vOEAAosIipyU"
      },
      "source": [
        "**Final Test dataset.**"
      ]
    },
    {
      "cell_type": "code",
      "metadata": {
        "id": "Bv0K0tz2J0EL"
      },
      "source": [
        "New_df_test_le = New_df_test.apply(LabelEncoder().fit_transform)"
      ],
      "execution_count": 12,
      "outputs": []
    },
    {
      "cell_type": "code",
      "metadata": {
        "id": "k5LAFNKQjLDK"
      },
      "source": [
        ""
      ],
      "execution_count": null,
      "outputs": []
    },
    {
      "cell_type": "markdown",
      "metadata": {
        "id": "jgSOwk-Jg2oU"
      },
      "source": [
        "**y containing the label column and \r\n",
        "X containing the features column.**"
      ]
    },
    {
      "cell_type": "code",
      "metadata": {
        "id": "U5W0wIQj0nr8"
      },
      "source": [
        "y = df_train_labels['total_cases']"
      ],
      "execution_count": 14,
      "outputs": []
    },
    {
      "cell_type": "code",
      "metadata": {
        "id": "Kkdwebvb20co"
      },
      "source": [
        "X = New_df_le"
      ],
      "execution_count": 15,
      "outputs": []
    },
    {
      "cell_type": "code",
      "metadata": {
        "colab": {
          "base_uri": "https://localhost:8080/",
          "height": 363
        },
        "id": "ZFm_376n27dS",
        "outputId": "54b28f14-20f1-4ae3-ba73-54e7dc2e840b"
      },
      "source": [
        "X.head(10)"
      ],
      "execution_count": 16,
      "outputs": [
        {
          "output_type": "execute_result",
          "data": {
            "text/html": [
              "<div>\n",
              "<style scoped>\n",
              "    .dataframe tbody tr th:only-of-type {\n",
              "        vertical-align: middle;\n",
              "    }\n",
              "\n",
              "    .dataframe tbody tr th {\n",
              "        vertical-align: top;\n",
              "    }\n",
              "\n",
              "    .dataframe thead th {\n",
              "        text-align: right;\n",
              "    }\n",
              "</style>\n",
              "<table border=\"1\" class=\"dataframe\">\n",
              "  <thead>\n",
              "    <tr style=\"text-align: right;\">\n",
              "      <th></th>\n",
              "      <th>city</th>\n",
              "      <th>year</th>\n",
              "      <th>weekofyear</th>\n",
              "      <th>week_start_date</th>\n",
              "      <th>ndvi_ne</th>\n",
              "      <th>ndvi_nw</th>\n",
              "      <th>ndvi_se</th>\n",
              "      <th>ndvi_sw</th>\n",
              "      <th>precipitation_amt_mm</th>\n",
              "      <th>reanalysis_air_temp_k</th>\n",
              "      <th>reanalysis_avg_temp_k</th>\n",
              "      <th>reanalysis_dew_point_temp_k</th>\n",
              "      <th>reanalysis_max_air_temp_k</th>\n",
              "      <th>reanalysis_min_air_temp_k</th>\n",
              "      <th>reanalysis_precip_amt_kg_per_m2</th>\n",
              "      <th>reanalysis_relative_humidity_percent</th>\n",
              "      <th>reanalysis_sat_precip_amt_mm</th>\n",
              "      <th>reanalysis_specific_humidity_g_per_kg</th>\n",
              "      <th>reanalysis_tdtr_k</th>\n",
              "      <th>station_avg_temp_c</th>\n",
              "      <th>station_diur_temp_rng_c</th>\n",
              "      <th>station_max_temp_c</th>\n",
              "      <th>station_min_temp_c</th>\n",
              "      <th>station_precip_mm</th>\n",
              "    </tr>\n",
              "  </thead>\n",
              "  <tbody>\n",
              "    <tr>\n",
              "      <th>0</th>\n",
              "      <td>1</td>\n",
              "      <td>0</td>\n",
              "      <td>17</td>\n",
              "      <td>0</td>\n",
              "      <td>566</td>\n",
              "      <td>609</td>\n",
              "      <td>726</td>\n",
              "      <td>602</td>\n",
              "      <td>154</td>\n",
              "      <td>280</td>\n",
              "      <td>116</td>\n",
              "      <td>66</td>\n",
              "      <td>15</td>\n",
              "      <td>79</td>\n",
              "      <td>497</td>\n",
              "      <td>82</td>\n",
              "      <td>154</td>\n",
              "      <td>71</td>\n",
              "      <td>74</td>\n",
              "      <td>86</td>\n",
              "      <td>123</td>\n",
              "      <td>5</td>\n",
              "      <td>30</td>\n",
              "      <td>129</td>\n",
              "    </tr>\n",
              "    <tr>\n",
              "      <th>1</th>\n",
              "      <td>1</td>\n",
              "      <td>0</td>\n",
              "      <td>18</td>\n",
              "      <td>1</td>\n",
              "      <td>681</td>\n",
              "      <td>759</td>\n",
              "      <td>407</td>\n",
              "      <td>422</td>\n",
              "      <td>280</td>\n",
              "      <td>462</td>\n",
              "      <td>204</td>\n",
              "      <td>294</td>\n",
              "      <td>26</td>\n",
              "      <td>84</td>\n",
              "      <td>284</td>\n",
              "      <td>364</td>\n",
              "      <td>280</td>\n",
              "      <td>281</td>\n",
              "      <td>56</td>\n",
              "      <td>196</td>\n",
              "      <td>86</td>\n",
              "      <td>16</td>\n",
              "      <td>53</td>\n",
              "      <td>67</td>\n",
              "    </tr>\n",
              "    <tr>\n",
              "      <th>2</th>\n",
              "      <td>1</td>\n",
              "      <td>0</td>\n",
              "      <td>19</td>\n",
              "      <td>2</td>\n",
              "      <td>256</td>\n",
              "      <td>861</td>\n",
              "      <td>363</td>\n",
              "      <td>546</td>\n",
              "      <td>417</td>\n",
              "      <td>628</td>\n",
              "      <td>260</td>\n",
              "      <td>588</td>\n",
              "      <td>22</td>\n",
              "      <td>93</td>\n",
              "      <td>422</td>\n",
              "      <td>822</td>\n",
              "      <td>417</td>\n",
              "      <td>571</td>\n",
              "      <td>51</td>\n",
              "      <td>196</td>\n",
              "      <td>94</td>\n",
              "      <td>20</td>\n",
              "      <td>59</td>\n",
              "      <td>313</td>\n",
              "    </tr>\n",
              "    <tr>\n",
              "      <th>3</th>\n",
              "      <td>1</td>\n",
              "      <td>0</td>\n",
              "      <td>20</td>\n",
              "      <td>3</td>\n",
              "      <td>587</td>\n",
              "      <td>1104</td>\n",
              "      <td>942</td>\n",
              "      <td>989</td>\n",
              "      <td>187</td>\n",
              "      <td>673</td>\n",
              "      <td>306</td>\n",
              "      <td>561</td>\n",
              "      <td>31</td>\n",
              "      <td>90</td>\n",
              "      <td>226</td>\n",
              "      <td>671</td>\n",
              "      <td>187</td>\n",
              "      <td>524</td>\n",
              "      <td>60</td>\n",
              "      <td>284</td>\n",
              "      <td>114</td>\n",
              "      <td>32</td>\n",
              "      <td>64</td>\n",
              "      <td>26</td>\n",
              "    </tr>\n",
              "    <tr>\n",
              "      <th>4</th>\n",
              "      <td>1</td>\n",
              "      <td>0</td>\n",
              "      <td>21</td>\n",
              "      <td>4</td>\n",
              "      <td>760</td>\n",
              "      <td>1149</td>\n",
              "      <td>1057</td>\n",
              "      <td>1038</td>\n",
              "      <td>89</td>\n",
              "      <td>809</td>\n",
              "      <td>364</td>\n",
              "      <td>675</td>\n",
              "      <td>36</td>\n",
              "      <td>95</td>\n",
              "      <td>192</td>\n",
              "      <td>682</td>\n",
              "      <td>89</td>\n",
              "      <td>646</td>\n",
              "      <td>101</td>\n",
              "      <td>453</td>\n",
              "      <td>283</td>\n",
              "      <td>49</td>\n",
              "      <td>69</td>\n",
              "      <td>41</td>\n",
              "    </tr>\n",
              "    <tr>\n",
              "      <th>5</th>\n",
              "      <td>1</td>\n",
              "      <td>0</td>\n",
              "      <td>22</td>\n",
              "      <td>5</td>\n",
              "      <td>615</td>\n",
              "      <td>872</td>\n",
              "      <td>1075</td>\n",
              "      <td>633</td>\n",
              "      <td>115</td>\n",
              "      <td>836</td>\n",
              "      <td>378</td>\n",
              "      <td>683</td>\n",
              "      <td>41</td>\n",
              "      <td>101</td>\n",
              "      <td>428</td>\n",
              "      <td>632</td>\n",
              "      <td>115</td>\n",
              "      <td>648</td>\n",
              "      <td>37</td>\n",
              "      <td>366</td>\n",
              "      <td>126</td>\n",
              "      <td>43</td>\n",
              "      <td>69</td>\n",
              "      <td>299</td>\n",
              "    </tr>\n",
              "    <tr>\n",
              "      <th>6</th>\n",
              "      <td>1</td>\n",
              "      <td>0</td>\n",
              "      <td>23</td>\n",
              "      <td>6</td>\n",
              "      <td>535</td>\n",
              "      <td>561</td>\n",
              "      <td>782</td>\n",
              "      <td>838</td>\n",
              "      <td>34</td>\n",
              "      <td>731</td>\n",
              "      <td>304</td>\n",
              "      <td>687</td>\n",
              "      <td>30</td>\n",
              "      <td>97</td>\n",
              "      <td>576</td>\n",
              "      <td>819</td>\n",
              "      <td>34</td>\n",
              "      <td>655</td>\n",
              "      <td>33</td>\n",
              "      <td>276</td>\n",
              "      <td>114</td>\n",
              "      <td>20</td>\n",
              "      <td>64</td>\n",
              "      <td>241</td>\n",
              "    </tr>\n",
              "    <tr>\n",
              "      <th>7</th>\n",
              "      <td>1</td>\n",
              "      <td>0</td>\n",
              "      <td>24</td>\n",
              "      <td>7</td>\n",
              "      <td>398</td>\n",
              "      <td>457</td>\n",
              "      <td>323</td>\n",
              "      <td>273</td>\n",
              "      <td>1126</td>\n",
              "      <td>825</td>\n",
              "      <td>346</td>\n",
              "      <td>912</td>\n",
              "      <td>23</td>\n",
              "      <td>104</td>\n",
              "      <td>477</td>\n",
              "      <td>908</td>\n",
              "      <td>1126</td>\n",
              "      <td>894</td>\n",
              "      <td>4</td>\n",
              "      <td>394</td>\n",
              "      <td>179</td>\n",
              "      <td>38</td>\n",
              "      <td>59</td>\n",
              "      <td>170</td>\n",
              "    </tr>\n",
              "    <tr>\n",
              "      <th>8</th>\n",
              "      <td>1</td>\n",
              "      <td>0</td>\n",
              "      <td>25</td>\n",
              "      <td>8</td>\n",
              "      <td>495</td>\n",
              "      <td>775</td>\n",
              "      <td>188</td>\n",
              "      <td>217</td>\n",
              "      <td>237</td>\n",
              "      <td>822</td>\n",
              "      <td>350</td>\n",
              "      <td>860</td>\n",
              "      <td>38</td>\n",
              "      <td>97</td>\n",
              "      <td>563</td>\n",
              "      <td>877</td>\n",
              "      <td>237</td>\n",
              "      <td>825</td>\n",
              "      <td>22</td>\n",
              "      <td>389</td>\n",
              "      <td>157</td>\n",
              "      <td>38</td>\n",
              "      <td>59</td>\n",
              "      <td>170</td>\n",
              "    </tr>\n",
              "    <tr>\n",
              "      <th>9</th>\n",
              "      <td>1</td>\n",
              "      <td>0</td>\n",
              "      <td>26</td>\n",
              "      <td>9</td>\n",
              "      <td>615</td>\n",
              "      <td>675</td>\n",
              "      <td>391</td>\n",
              "      <td>778</td>\n",
              "      <td>175</td>\n",
              "      <td>968</td>\n",
              "      <td>447</td>\n",
              "      <td>961</td>\n",
              "      <td>40</td>\n",
              "      <td>107</td>\n",
              "      <td>459</td>\n",
              "      <td>757</td>\n",
              "      <td>175</td>\n",
              "      <td>928</td>\n",
              "      <td>31</td>\n",
              "      <td>389</td>\n",
              "      <td>96</td>\n",
              "      <td>38</td>\n",
              "      <td>71</td>\n",
              "      <td>6</td>\n",
              "    </tr>\n",
              "  </tbody>\n",
              "</table>\n",
              "</div>"
            ],
            "text/plain": [
              "   city  year  ...  station_min_temp_c  station_precip_mm\n",
              "0     1     0  ...                  30                129\n",
              "1     1     0  ...                  53                 67\n",
              "2     1     0  ...                  59                313\n",
              "3     1     0  ...                  64                 26\n",
              "4     1     0  ...                  69                 41\n",
              "5     1     0  ...                  69                299\n",
              "6     1     0  ...                  64                241\n",
              "7     1     0  ...                  59                170\n",
              "8     1     0  ...                  59                170\n",
              "9     1     0  ...                  71                  6\n",
              "\n",
              "[10 rows x 24 columns]"
            ]
          },
          "metadata": {
            "tags": []
          },
          "execution_count": 16
        }
      ]
    },
    {
      "cell_type": "code",
      "metadata": {
        "id": "SrpEntOlYaQR"
      },
      "source": [
        ""
      ],
      "execution_count": null,
      "outputs": []
    },
    {
      "cell_type": "markdown",
      "metadata": {
        "id": "pG-ZK62igcMn"
      },
      "source": [
        "**Splitting of the dataset using train_test_split method.**"
      ]
    },
    {
      "cell_type": "code",
      "metadata": {
        "id": "eaZXFUyP3OLE"
      },
      "source": [
        "X_train, X_test, y_train, y_test = train_test_split(X, y, test_size = 0.35, random_state = 42)"
      ],
      "execution_count": 17,
      "outputs": []
    },
    {
      "cell_type": "code",
      "metadata": {
        "colab": {
          "base_uri": "https://localhost:8080/"
        },
        "id": "Pa14Qqlx3VR-",
        "outputId": "798a656e-6aff-444c-ab24-27ffa280a2bf"
      },
      "source": [
        "X_train.shape ,y_train.shape"
      ],
      "execution_count": 18,
      "outputs": [
        {
          "output_type": "execute_result",
          "data": {
            "text/plain": [
              "((946, 24), (946,))"
            ]
          },
          "metadata": {
            "tags": []
          },
          "execution_count": 18
        }
      ]
    },
    {
      "cell_type": "code",
      "metadata": {
        "id": "jBmpNEnUYa-s"
      },
      "source": [
        ""
      ],
      "execution_count": null,
      "outputs": []
    },
    {
      "cell_type": "markdown",
      "metadata": {
        "id": "wapFmHumgRRM"
      },
      "source": [
        "**Standard Scaler for scaling of the data for training purpose.**"
      ]
    },
    {
      "cell_type": "code",
      "metadata": {
        "id": "3glp0X7k3YJm"
      },
      "source": [
        "scaler = StandardScaler()\r\n",
        "\r\n",
        "X_train = scaler.fit_transform(X_train)\r\n",
        "X_test = scaler.transform(X_test)"
      ],
      "execution_count": 19,
      "outputs": []
    },
    {
      "cell_type": "code",
      "metadata": {
        "id": "C6O0d_TDezvf"
      },
      "source": [
        ""
      ],
      "execution_count": null,
      "outputs": []
    },
    {
      "cell_type": "markdown",
      "metadata": {
        "id": "YsDPbEv3euYn"
      },
      "source": [
        "**XGBOOST REGRESSOR**"
      ]
    },
    {
      "cell_type": "code",
      "metadata": {
        "id": "FB1_Wr5IZvnO"
      },
      "source": [
        "xgbr = XGBRegressor(verbosity=0)"
      ],
      "execution_count": 20,
      "outputs": []
    },
    {
      "cell_type": "code",
      "metadata": {
        "colab": {
          "base_uri": "https://localhost:8080/"
        },
        "id": "_xZnQQxSZvua",
        "outputId": "e328be20-bfea-405a-add4-01550c04f608"
      },
      "source": [
        "xgbr.fit(X_train, y_train)"
      ],
      "execution_count": 21,
      "outputs": [
        {
          "output_type": "execute_result",
          "data": {
            "text/plain": [
              "XGBRegressor(base_score=0.5, booster='gbtree', colsample_bylevel=1,\n",
              "             colsample_bynode=1, colsample_bytree=1, gamma=0,\n",
              "             importance_type='gain', learning_rate=0.1, max_delta_step=0,\n",
              "             max_depth=3, min_child_weight=1, missing=None, n_estimators=100,\n",
              "             n_jobs=1, nthread=None, objective='reg:linear', random_state=0,\n",
              "             reg_alpha=0, reg_lambda=1, scale_pos_weight=1, seed=None,\n",
              "             silent=None, subsample=1, verbosity=0)"
            ]
          },
          "metadata": {
            "tags": []
          },
          "execution_count": 21
        }
      ]
    },
    {
      "cell_type": "markdown",
      "metadata": {
        "id": "Capk-sVSpaNU"
      },
      "source": [
        "*Prediction accuracy.*"
      ]
    },
    {
      "cell_type": "code",
      "metadata": {
        "colab": {
          "base_uri": "https://localhost:8080/"
        },
        "id": "VlhYD2XEZvxD",
        "outputId": "1161158a-8cd3-4afd-982f-d53e44e554ce"
      },
      "source": [
        "xgbr_score = xgbr.score(X_train, y_train)\r\n",
        "xgbr_score"
      ],
      "execution_count": 22,
      "outputs": [
        {
          "output_type": "execute_result",
          "data": {
            "text/plain": [
              "0.9364520401360259"
            ]
          },
          "metadata": {
            "tags": []
          },
          "execution_count": 22
        }
      ]
    },
    {
      "cell_type": "code",
      "metadata": {
        "id": "2LzVY6h8pZfT"
      },
      "source": [
        ""
      ],
      "execution_count": null,
      "outputs": []
    },
    {
      "cell_type": "markdown",
      "metadata": {
        "id": "l7v1LsNVpj3e"
      },
      "source": [
        "**Prediction on X_test dataset using Xgb regressor.**"
      ]
    },
    {
      "cell_type": "code",
      "metadata": {
        "id": "ToltuCIxaNh_"
      },
      "source": [
        "y_pred_xgb = xgbr.predict(X_test) "
      ],
      "execution_count": 23,
      "outputs": []
    },
    {
      "cell_type": "code",
      "metadata": {
        "id": "Sshk3weSbIkt"
      },
      "source": [
        ""
      ],
      "execution_count": null,
      "outputs": []
    },
    {
      "cell_type": "markdown",
      "metadata": {
        "id": "RhxnM7eXe2Xn"
      },
      "source": [
        "**RANDOM FOREST REGRESSOR**"
      ]
    },
    {
      "cell_type": "code",
      "metadata": {
        "id": "M60fwPK6CM-t"
      },
      "source": [
        "from sklearn.ensemble import RandomForestRegressor\r\n",
        "rfr = RandomForestRegressor()"
      ],
      "execution_count": 24,
      "outputs": []
    },
    {
      "cell_type": "code",
      "metadata": {
        "colab": {
          "base_uri": "https://localhost:8080/"
        },
        "id": "Dr1xFzl1DB_S",
        "outputId": "65cb6e15-e0a7-46e5-fc00-9288e23b73ac"
      },
      "source": [
        "rfr.fit(X_train, y_train)"
      ],
      "execution_count": 25,
      "outputs": [
        {
          "output_type": "execute_result",
          "data": {
            "text/plain": [
              "RandomForestRegressor(bootstrap=True, ccp_alpha=0.0, criterion='mse',\n",
              "                      max_depth=None, max_features='auto', max_leaf_nodes=None,\n",
              "                      max_samples=None, min_impurity_decrease=0.0,\n",
              "                      min_impurity_split=None, min_samples_leaf=1,\n",
              "                      min_samples_split=2, min_weight_fraction_leaf=0.0,\n",
              "                      n_estimators=100, n_jobs=None, oob_score=False,\n",
              "                      random_state=None, verbose=0, warm_start=False)"
            ]
          },
          "metadata": {
            "tags": []
          },
          "execution_count": 25
        }
      ]
    },
    {
      "cell_type": "markdown",
      "metadata": {
        "id": "yXQiRnIDo5gQ"
      },
      "source": [
        "*Random forest regression score.*"
      ]
    },
    {
      "cell_type": "code",
      "metadata": {
        "colab": {
          "base_uri": "https://localhost:8080/"
        },
        "id": "hO8dWnC6DMWV",
        "outputId": "8e7a872e-79f8-47b4-adeb-9aa9d36d8779"
      },
      "source": [
        "rfr_score = rfr.score(X_test, y_test)\r\n",
        "rfr_score"
      ],
      "execution_count": 26,
      "outputs": [
        {
          "output_type": "execute_result",
          "data": {
            "text/plain": [
              "0.6520171506313421"
            ]
          },
          "metadata": {
            "tags": []
          },
          "execution_count": 26
        }
      ]
    },
    {
      "cell_type": "code",
      "metadata": {
        "id": "Y_vVxy5to41h"
      },
      "source": [
        ""
      ],
      "execution_count": null,
      "outputs": []
    },
    {
      "cell_type": "markdown",
      "metadata": {
        "id": "t5aOzHUcox-u"
      },
      "source": [
        "**Prediction on X_test using random forest regressor.**"
      ]
    },
    {
      "cell_type": "code",
      "metadata": {
        "id": "OlLwXKNeYc2k"
      },
      "source": [
        "y_predicted = rfr.predict(X_test)\r\n",
        "y_predicted = np.array(y_predicted)"
      ],
      "execution_count": 27,
      "outputs": []
    },
    {
      "cell_type": "code",
      "metadata": {
        "id": "YdZHg4qvdmoY"
      },
      "source": [
        ""
      ],
      "execution_count": null,
      "outputs": []
    },
    {
      "cell_type": "markdown",
      "metadata": {
        "id": "lhKsP17ue82G"
      },
      "source": [
        "**Dataframe containing arranged in descending order of model's score.**"
      ]
    },
    {
      "cell_type": "code",
      "metadata": {
        "colab": {
          "base_uri": "https://localhost:8080/",
          "height": 106
        },
        "id": "I4RHpuqRdm4g",
        "outputId": "bbd3723a-10b7-4fa8-a7bb-0bd2ffb096b6"
      },
      "source": [
        "models = pd.DataFrame({   \r\n",
        "    'Model': ['XGBoost Regressor', 'Random Forest Regressor'],\r\n",
        "    'Score': [xgbr_score, rfr_score]})\r\n",
        "models.sort_values(by='Score', ascending=False)"
      ],
      "execution_count": 28,
      "outputs": [
        {
          "output_type": "execute_result",
          "data": {
            "text/html": [
              "<div>\n",
              "<style scoped>\n",
              "    .dataframe tbody tr th:only-of-type {\n",
              "        vertical-align: middle;\n",
              "    }\n",
              "\n",
              "    .dataframe tbody tr th {\n",
              "        vertical-align: top;\n",
              "    }\n",
              "\n",
              "    .dataframe thead th {\n",
              "        text-align: right;\n",
              "    }\n",
              "</style>\n",
              "<table border=\"1\" class=\"dataframe\">\n",
              "  <thead>\n",
              "    <tr style=\"text-align: right;\">\n",
              "      <th></th>\n",
              "      <th>Model</th>\n",
              "      <th>Score</th>\n",
              "    </tr>\n",
              "  </thead>\n",
              "  <tbody>\n",
              "    <tr>\n",
              "      <th>0</th>\n",
              "      <td>XGBoost Regressor</td>\n",
              "      <td>0.936452</td>\n",
              "    </tr>\n",
              "    <tr>\n",
              "      <th>1</th>\n",
              "      <td>Random Forest Regressor</td>\n",
              "      <td>0.652017</td>\n",
              "    </tr>\n",
              "  </tbody>\n",
              "</table>\n",
              "</div>"
            ],
            "text/plain": [
              "                     Model     Score\n",
              "0        XGBoost Regressor  0.936452\n",
              "1  Random Forest Regressor  0.652017"
            ]
          },
          "metadata": {
            "tags": []
          },
          "execution_count": 28
        }
      ]
    },
    {
      "cell_type": "markdown",
      "metadata": {
        "id": "JsGLjKoGkWX1"
      },
      "source": [
        "*Since XGBoost gives around 93.6 % accuracy. So this algorithm is more suited for prediction.*"
      ]
    },
    {
      "cell_type": "code",
      "metadata": {
        "id": "h-xkLjWaeJjY"
      },
      "source": [
        ""
      ],
      "execution_count": 40,
      "outputs": []
    },
    {
      "cell_type": "markdown",
      "metadata": {
        "id": "OBLm_23JnD2s"
      },
      "source": [
        "**Distribution plot for y_pred_xgb.**"
      ]
    },
    {
      "cell_type": "code",
      "metadata": {
        "colab": {
          "base_uri": "https://localhost:8080/",
          "height": 421
        },
        "id": "41GUUi0-mIDH",
        "outputId": "082b5bca-edd0-4cdf-db58-00f2607e21bb"
      },
      "source": [
        "sns.displot(y_pred_xgb)\r\n",
        "plt.xlabel('y_pred_xgb')\r\n",
        "plt.title('Graph for y_pred_xgb')"
      ],
      "execution_count": 41,
      "outputs": [
        {
          "output_type": "execute_result",
          "data": {
            "text/plain": [
              "Text(0.5, 1.0, 'Graph for y_pred_xgb')"
            ]
          },
          "metadata": {
            "tags": []
          },
          "execution_count": 41
        },
        {
          "output_type": "display_data",
          "data": {
            "image/png": "[encoded data removed]",
            "text/plain": [
              "<Figure size 360x360 with 1 Axes>"
            ]
          },
          "metadata": {
            "tags": []
          }
        }
      ]
    },
    {
      "cell_type": "code",
      "metadata": {
        "id": "NB-mrNLLmtb6"
      },
      "source": [
        ""
      ],
      "execution_count": null,
      "outputs": []
    },
    {
      "cell_type": "markdown",
      "metadata": {
        "id": "1IDuvg6xmt9y"
      },
      "source": [
        "**Distribution plot for y_predicted.**"
      ]
    },
    {
      "cell_type": "code",
      "metadata": {
        "colab": {
          "base_uri": "https://localhost:8080/",
          "height": 421
        },
        "id": "E4FAimV9mh8y",
        "outputId": "3636f927-9d2e-4f6d-c0ff-56e44449b36e"
      },
      "source": [
        "sns.displot(y_predicted)\r\n",
        "plt.xlabel('y_predicted')\r\n",
        "plt.title('Graph for y_predicted')"
      ],
      "execution_count": 42,
      "outputs": [
        {
          "output_type": "execute_result",
          "data": {
            "text/plain": [
              "Text(0.5, 1.0, 'Graph for y_predicted')"
            ]
          },
          "metadata": {
            "tags": []
          },
          "execution_count": 42
        },
        {
          "output_type": "display_data",
          "data": {
            "image/png": "[encoded data removed]",
            "text/plain": [
              "<Figure size 360x360 with 1 Axes>"
            ]
          },
          "metadata": {
            "tags": []
          }
        }
      ]
    },
    {
      "cell_type": "code",
      "metadata": {
        "id": "i507bxWHnAOM"
      },
      "source": [
        ""
      ],
      "execution_count": null,
      "outputs": []
    },
    {
      "cell_type": "markdown",
      "metadata": {
        "id": "TFDyoUFHm1km"
      },
      "source": [
        "**True value vs Predicted value**"
      ]
    },
    {
      "cell_type": "code",
      "metadata": {
        "colab": {
          "base_uri": "https://localhost:8080/",
          "height": 296
        },
        "id": "jAIJklKcmIGK",
        "outputId": "a35f92c3-11bf-48c2-be64-8211f481afd7"
      },
      "source": [
        "plt.scatter(y_test, y_pred_xgb)\r\n",
        "\r\n",
        "plt.xlabel('y_pred_xgb')\r\n",
        "plt.ylabel('y_test')\r\n",
        "\r\n",
        "plt.title('True value vs predicted value')\r\n",
        "\r\n",
        "plt.grid(True)\r\n",
        "\r\n",
        "plt.style.use('fivethirtyeight')"
      ],
      "execution_count": 31,
      "outputs": [
        {
          "output_type": "display_data",
          "data": {
            "image/png": "[encoded data removed]",
            "text/plain": [
              "<Figure size 432x288 with 1 Axes>"
            ]
          },
          "metadata": {
            "tags": [],
            "needs_background": "light"
          }
        }
      ]
    },
    {
      "cell_type": "markdown",
      "metadata": {
        "id": "MRgT6wBXfTRF"
      },
      "source": [
        "**R2, Mean Absolute score and Mean Squared score.**"
      ]
    },
    {
      "cell_type": "code",
      "metadata": {
        "colab": {
          "base_uri": "https://localhost:8080/"
        },
        "id": "iP7iWD8QZMHq",
        "outputId": "7455fc57-9517-4700-ed32-5212f4aa5a40"
      },
      "source": [
        "print('R2 score : ', round(r2_score(y_test, y_pred_xgb)*100, 2))\r\n",
        "print('MAE score : ', mean_absolute_error(y_test, y_pred_xgb))\r\n",
        "print('MSE score : ', mean_squared_error(y_test, y_pred_xgb))"
      ],
      "execution_count": 32,
      "outputs": [
        {
          "output_type": "stream",
          "text": [
            "R2 score :  76.42\n",
            "MAE score :  11.120255340898739\n",
            "MSE score :  596.25326560997\n"
          ],
          "name": "stdout"
        }
      ]
    },
    {
      "cell_type": "code",
      "metadata": {
        "id": "4jpl4ym9ZMRi"
      },
      "source": [
        ""
      ],
      "execution_count": null,
      "outputs": []
    },
    {
      "cell_type": "markdown",
      "metadata": {
        "id": "qXHojYsifbkd"
      },
      "source": [
        "**\"total_cases\" was predicted from test dataset using Xgboost algorithm.**"
      ]
    },
    {
      "cell_type": "code",
      "metadata": {
        "colab": {
          "base_uri": "https://localhost:8080/"
        },
        "id": "NtWa0NTdDQLQ",
        "outputId": "d35e704a-6ad4-409b-fadd-34330aef5fa1"
      },
      "source": [
        "New_df_test_le['total_cases'] = xgbr.predict(New_df_test_le.values)\r\n",
        "New_df_test_le['total_cases']"
      ],
      "execution_count": 33,
      "outputs": [
        {
          "output_type": "execute_result",
          "data": {
            "text/plain": [
              "0      100.089203\n",
              "1      104.042419\n",
              "2      151.870834\n",
              "3      131.138489\n",
              "4      151.870834\n",
              "          ...    \n",
              "411    140.613586\n",
              "412    140.613586\n",
              "413    140.613586\n",
              "414    140.613586\n",
              "415    140.613586\n",
              "Name: total_cases, Length: 416, dtype: float32"
            ]
          },
          "metadata": {
            "tags": []
          },
          "execution_count": 33
        }
      ]
    },
    {
      "cell_type": "code",
      "metadata": {
        "id": "NWcWmJTQf1rq"
      },
      "source": [
        ""
      ],
      "execution_count": null,
      "outputs": []
    },
    {
      "cell_type": "markdown",
      "metadata": {
        "id": "16xAoOHKf9R_"
      },
      "source": [
        "**Conversion from float64 to int64 for submission purpose.**"
      ]
    },
    {
      "cell_type": "code",
      "metadata": {
        "id": "iZY7ITynS9NJ"
      },
      "source": [
        "New_df_test_le['total_cases'] = New_df_test_le['total_cases'].astype('int64')"
      ],
      "execution_count": 34,
      "outputs": []
    },
    {
      "cell_type": "code",
      "metadata": {
        "colab": {
          "base_uri": "https://localhost:8080/"
        },
        "id": "GkFA4Sz1TR95",
        "outputId": "c70313c4-276e-4846-8421-a4a8aa1d7f24"
      },
      "source": [
        "New_df_test_le['total_cases']"
      ],
      "execution_count": 35,
      "outputs": [
        {
          "output_type": "execute_result",
          "data": {
            "text/plain": [
              "0      100\n",
              "1      104\n",
              "2      151\n",
              "3      131\n",
              "4      151\n",
              "      ... \n",
              "411    140\n",
              "412    140\n",
              "413    140\n",
              "414    140\n",
              "415    140\n",
              "Name: total_cases, Length: 416, dtype: int64"
            ]
          },
          "metadata": {
            "tags": []
          },
          "execution_count": 35
        }
      ]
    },
    {
      "cell_type": "code",
      "metadata": {
        "id": "bgiHzXrLYeyJ"
      },
      "source": [
        ""
      ],
      "execution_count": null,
      "outputs": []
    },
    {
      "cell_type": "markdown",
      "metadata": {
        "id": "LIZVq_1IgHGz"
      },
      "source": [
        "# Submission File in CSV format."
      ]
    },
    {
      "cell_type": "code",
      "metadata": {
        "id": "3DzRpkfDRUtf"
      },
      "source": [
        "New_df_test = pd.concat([New_df_test, New_df_test_le[['total_cases']]], axis = 1)"
      ],
      "execution_count": 36,
      "outputs": []
    },
    {
      "cell_type": "code",
      "metadata": {
        "colab": {
          "base_uri": "https://localhost:8080/",
          "height": 363
        },
        "id": "VQkfJV4bohOH",
        "outputId": "e1124df0-5280-42cd-b6d9-eec2330f56de"
      },
      "source": [
        "New_df_test.head(10)"
      ],
      "execution_count": 40,
      "outputs": [
        {
          "output_type": "execute_result",
          "data": {
            "text/html": [
              "<div>\n",
              "<style scoped>\n",
              "    .dataframe tbody tr th:only-of-type {\n",
              "        vertical-align: middle;\n",
              "    }\n",
              "\n",
              "    .dataframe tbody tr th {\n",
              "        vertical-align: top;\n",
              "    }\n",
              "\n",
              "    .dataframe thead th {\n",
              "        text-align: right;\n",
              "    }\n",
              "</style>\n",
              "<table border=\"1\" class=\"dataframe\">\n",
              "  <thead>\n",
              "    <tr style=\"text-align: right;\">\n",
              "      <th></th>\n",
              "      <th>city</th>\n",
              "      <th>year</th>\n",
              "      <th>weekofyear</th>\n",
              "      <th>week_start_date</th>\n",
              "      <th>ndvi_ne</th>\n",
              "      <th>ndvi_nw</th>\n",
              "      <th>ndvi_se</th>\n",
              "      <th>ndvi_sw</th>\n",
              "      <th>precipitation_amt_mm</th>\n",
              "      <th>reanalysis_air_temp_k</th>\n",
              "      <th>reanalysis_avg_temp_k</th>\n",
              "      <th>reanalysis_dew_point_temp_k</th>\n",
              "      <th>reanalysis_max_air_temp_k</th>\n",
              "      <th>reanalysis_min_air_temp_k</th>\n",
              "      <th>reanalysis_precip_amt_kg_per_m2</th>\n",
              "      <th>reanalysis_relative_humidity_percent</th>\n",
              "      <th>reanalysis_sat_precip_amt_mm</th>\n",
              "      <th>reanalysis_specific_humidity_g_per_kg</th>\n",
              "      <th>reanalysis_tdtr_k</th>\n",
              "      <th>station_avg_temp_c</th>\n",
              "      <th>station_diur_temp_rng_c</th>\n",
              "      <th>station_max_temp_c</th>\n",
              "      <th>station_min_temp_c</th>\n",
              "      <th>station_precip_mm</th>\n",
              "      <th>total_cases</th>\n",
              "    </tr>\n",
              "  </thead>\n",
              "  <tbody>\n",
              "    <tr>\n",
              "      <th>0</th>\n",
              "      <td>sj</td>\n",
              "      <td>2008</td>\n",
              "      <td>18</td>\n",
              "      <td>iq</td>\n",
              "      <td>-0.018900</td>\n",
              "      <td>-0.018900</td>\n",
              "      <td>0.102729</td>\n",
              "      <td>0.091200</td>\n",
              "      <td>78.6</td>\n",
              "      <td>298.492857</td>\n",
              "      <td>298.550000</td>\n",
              "      <td>294.527143</td>\n",
              "      <td>301.1</td>\n",
              "      <td>296.4</td>\n",
              "      <td>25.37</td>\n",
              "      <td>78.781429</td>\n",
              "      <td>78.6</td>\n",
              "      <td>15.918571</td>\n",
              "      <td>3.128571</td>\n",
              "      <td>26.528571</td>\n",
              "      <td>7.057143</td>\n",
              "      <td>33.3</td>\n",
              "      <td>21.7</td>\n",
              "      <td>75.2</td>\n",
              "      <td>100</td>\n",
              "    </tr>\n",
              "    <tr>\n",
              "      <th>1</th>\n",
              "      <td>sj</td>\n",
              "      <td>2008</td>\n",
              "      <td>19</td>\n",
              "      <td>sj</td>\n",
              "      <td>-0.018000</td>\n",
              "      <td>-0.012400</td>\n",
              "      <td>0.082043</td>\n",
              "      <td>0.072314</td>\n",
              "      <td>12.56</td>\n",
              "      <td>298.475714</td>\n",
              "      <td>298.557143</td>\n",
              "      <td>294.395714</td>\n",
              "      <td>300.8</td>\n",
              "      <td>296.7</td>\n",
              "      <td>21.83</td>\n",
              "      <td>78.230000</td>\n",
              "      <td>12.56</td>\n",
              "      <td>15.791429</td>\n",
              "      <td>2.571429</td>\n",
              "      <td>26.071429</td>\n",
              "      <td>5.557143</td>\n",
              "      <td>30.0</td>\n",
              "      <td>22.2</td>\n",
              "      <td>34.3</td>\n",
              "      <td>104</td>\n",
              "    </tr>\n",
              "    <tr>\n",
              "      <th>2</th>\n",
              "      <td>sj</td>\n",
              "      <td>2008</td>\n",
              "      <td>20</td>\n",
              "      <td>2</td>\n",
              "      <td>-0.001500</td>\n",
              "      <td>0.126803</td>\n",
              "      <td>0.151083</td>\n",
              "      <td>0.091529</td>\n",
              "      <td>3.66</td>\n",
              "      <td>299.455714</td>\n",
              "      <td>299.357143</td>\n",
              "      <td>295.308571</td>\n",
              "      <td>302.2</td>\n",
              "      <td>296.4</td>\n",
              "      <td>4.12</td>\n",
              "      <td>78.270000</td>\n",
              "      <td>3.66</td>\n",
              "      <td>16.674286</td>\n",
              "      <td>4.428571</td>\n",
              "      <td>27.928571</td>\n",
              "      <td>7.785714</td>\n",
              "      <td>32.8</td>\n",
              "      <td>22.8</td>\n",
              "      <td>3</td>\n",
              "      <td>151</td>\n",
              "    </tr>\n",
              "    <tr>\n",
              "      <th>3</th>\n",
              "      <td>sj</td>\n",
              "      <td>2008</td>\n",
              "      <td>21</td>\n",
              "      <td>3</td>\n",
              "      <td>0.126050</td>\n",
              "      <td>-0.019867</td>\n",
              "      <td>0.124329</td>\n",
              "      <td>0.125686</td>\n",
              "      <td>iq</td>\n",
              "      <td>299.690000</td>\n",
              "      <td>299.728571</td>\n",
              "      <td>294.402857</td>\n",
              "      <td>303.0</td>\n",
              "      <td>296.9</td>\n",
              "      <td>2.2</td>\n",
              "      <td>73.015714</td>\n",
              "      <td>iq</td>\n",
              "      <td>15.775714</td>\n",
              "      <td>4.342857</td>\n",
              "      <td>28.057143</td>\n",
              "      <td>6.271429</td>\n",
              "      <td>33.3</td>\n",
              "      <td>24.4</td>\n",
              "      <td>0.3</td>\n",
              "      <td>131</td>\n",
              "    </tr>\n",
              "    <tr>\n",
              "      <th>4</th>\n",
              "      <td>sj</td>\n",
              "      <td>2008</td>\n",
              "      <td>22</td>\n",
              "      <td>4</td>\n",
              "      <td>0.056800</td>\n",
              "      <td>0.039833</td>\n",
              "      <td>0.062267</td>\n",
              "      <td>0.075914</td>\n",
              "      <td>0.76</td>\n",
              "      <td>299.780000</td>\n",
              "      <td>299.671429</td>\n",
              "      <td>294.760000</td>\n",
              "      <td>302.3</td>\n",
              "      <td>297.3</td>\n",
              "      <td>4.36</td>\n",
              "      <td>74.084286</td>\n",
              "      <td>0.76</td>\n",
              "      <td>16.137143</td>\n",
              "      <td>3.542857</td>\n",
              "      <td>27.614286</td>\n",
              "      <td>7.085714</td>\n",
              "      <td>33.3</td>\n",
              "      <td>23.3</td>\n",
              "      <td>84.1</td>\n",
              "      <td>151</td>\n",
              "    </tr>\n",
              "    <tr>\n",
              "      <th>5</th>\n",
              "      <td>sj</td>\n",
              "      <td>2008</td>\n",
              "      <td>23</td>\n",
              "      <td>5</td>\n",
              "      <td>-0.044000</td>\n",
              "      <td>-0.030467</td>\n",
              "      <td>0.132000</td>\n",
              "      <td>0.083529</td>\n",
              "      <td>71.17</td>\n",
              "      <td>299.768571</td>\n",
              "      <td>299.728571</td>\n",
              "      <td>295.314286</td>\n",
              "      <td>301.9</td>\n",
              "      <td>297.6</td>\n",
              "      <td>22.55</td>\n",
              "      <td>76.557143</td>\n",
              "      <td>71.17</td>\n",
              "      <td>16.667143</td>\n",
              "      <td>2.857143</td>\n",
              "      <td>28.000000</td>\n",
              "      <td>5.171429</td>\n",
              "      <td>32.8</td>\n",
              "      <td>25.0</td>\n",
              "      <td>27.7</td>\n",
              "      <td>151</td>\n",
              "    </tr>\n",
              "    <tr>\n",
              "      <th>6</th>\n",
              "      <td>sj</td>\n",
              "      <td>2008</td>\n",
              "      <td>24</td>\n",
              "      <td>6</td>\n",
              "      <td>-0.044300</td>\n",
              "      <td>-0.024925</td>\n",
              "      <td>0.132271</td>\n",
              "      <td>0.159157</td>\n",
              "      <td>48.99</td>\n",
              "      <td>300.062857</td>\n",
              "      <td>300.007143</td>\n",
              "      <td>295.650000</td>\n",
              "      <td>302.4</td>\n",
              "      <td>297.5</td>\n",
              "      <td>13.1</td>\n",
              "      <td>76.844286</td>\n",
              "      <td>48.99</td>\n",
              "      <td>17.010000</td>\n",
              "      <td>3.157143</td>\n",
              "      <td>27.400000</td>\n",
              "      <td>6.042857</td>\n",
              "      <td>31.1</td>\n",
              "      <td>23.3</td>\n",
              "      <td>91.7</td>\n",
              "      <td>151</td>\n",
              "    </tr>\n",
              "    <tr>\n",
              "      <th>7</th>\n",
              "      <td>sj</td>\n",
              "      <td>2008</td>\n",
              "      <td>25</td>\n",
              "      <td>7</td>\n",
              "      <td>0.126050</td>\n",
              "      <td>0.082150</td>\n",
              "      <td>0.144371</td>\n",
              "      <td>0.116729</td>\n",
              "      <td>30.81</td>\n",
              "      <td>300.484286</td>\n",
              "      <td>300.578571</td>\n",
              "      <td>295.997143</td>\n",
              "      <td>303.5</td>\n",
              "      <td>297.5</td>\n",
              "      <td>7.2</td>\n",
              "      <td>76.870000</td>\n",
              "      <td>30.81</td>\n",
              "      <td>17.420000</td>\n",
              "      <td>3.900000</td>\n",
              "      <td>28.757143</td>\n",
              "      <td>6.985714</td>\n",
              "      <td>34.4</td>\n",
              "      <td>24.4</td>\n",
              "      <td>0.3</td>\n",
              "      <td>151</td>\n",
              "    </tr>\n",
              "    <tr>\n",
              "      <th>8</th>\n",
              "      <td>sj</td>\n",
              "      <td>2008</td>\n",
              "      <td>26</td>\n",
              "      <td>8</td>\n",
              "      <td>0.010800</td>\n",
              "      <td>0.049900</td>\n",
              "      <td>0.100571</td>\n",
              "      <td>0.117329</td>\n",
              "      <td>8.02</td>\n",
              "      <td>300.601429</td>\n",
              "      <td>300.621429</td>\n",
              "      <td>296.268571</td>\n",
              "      <td>302.5</td>\n",
              "      <td>298.5</td>\n",
              "      <td>17.1</td>\n",
              "      <td>77.395714</td>\n",
              "      <td>8.02</td>\n",
              "      <td>17.678571</td>\n",
              "      <td>2.785714</td>\n",
              "      <td>28.657143</td>\n",
              "      <td>6.242857</td>\n",
              "      <td>32.8</td>\n",
              "      <td>23.9</td>\n",
              "      <td>28.7</td>\n",
              "      <td>151</td>\n",
              "    </tr>\n",
              "    <tr>\n",
              "      <th>9</th>\n",
              "      <td>sj</td>\n",
              "      <td>2008</td>\n",
              "      <td>27</td>\n",
              "      <td>9</td>\n",
              "      <td>0.072667</td>\n",
              "      <td>0.106660</td>\n",
              "      <td>0.155429</td>\n",
              "      <td>0.164900</td>\n",
              "      <td>17.52</td>\n",
              "      <td>300.497143</td>\n",
              "      <td>300.528571</td>\n",
              "      <td>296.411429</td>\n",
              "      <td>302.3</td>\n",
              "      <td>298.7</td>\n",
              "      <td>11.9</td>\n",
              "      <td>78.534286</td>\n",
              "      <td>17.52</td>\n",
              "      <td>17.808571</td>\n",
              "      <td>2.228571</td>\n",
              "      <td>28.457143</td>\n",
              "      <td>4.628571</td>\n",
              "      <td>31.1</td>\n",
              "      <td>25.0</td>\n",
              "      <td>2.9</td>\n",
              "      <td>151</td>\n",
              "    </tr>\n",
              "  </tbody>\n",
              "</table>\n",
              "</div>"
            ],
            "text/plain": [
              "  city  year weekofyear  ... station_min_temp_c  station_precip_mm  total_cases\n",
              "0   sj  2008         18  ...               21.7               75.2          100\n",
              "1   sj  2008         19  ...               22.2               34.3          104\n",
              "2   sj  2008         20  ...               22.8                  3          151\n",
              "3   sj  2008         21  ...               24.4                0.3          131\n",
              "4   sj  2008         22  ...               23.3               84.1          151\n",
              "5   sj  2008         23  ...               25.0               27.7          151\n",
              "6   sj  2008         24  ...               23.3               91.7          151\n",
              "7   sj  2008         25  ...               24.4                0.3          151\n",
              "8   sj  2008         26  ...               23.9               28.7          151\n",
              "9   sj  2008         27  ...               25.0                2.9          151\n",
              "\n",
              "[10 rows x 25 columns]"
            ]
          },
          "metadata": {
            "tags": []
          },
          "execution_count": 40
        }
      ]
    },
    {
      "cell_type": "code",
      "metadata": {
        "id": "nDywcO2xWaFc"
      },
      "source": [
        "New_df_test = New_df_test.replace({0:'iq',1:'sj'})"
      ],
      "execution_count": 37,
      "outputs": []
    },
    {
      "cell_type": "code",
      "metadata": {
        "id": "Os7TzS8GD5kd"
      },
      "source": [
        "New_df_test[['city','year','weekofyear','total_cases']].to_csv('Xgbr_submit.csv', index = False)"
      ],
      "execution_count": 38,
      "outputs": []
    },
    {
      "cell_type": "code",
      "metadata": {
        "id": "4k4KqqE4R_At"
      },
      "source": [
        ""
      ],
      "execution_count": null,
      "outputs": []
    }
  ]
}